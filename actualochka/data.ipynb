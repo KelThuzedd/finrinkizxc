{
 "cells": [
  {
   "cell_type": "code",
   "execution_count": 2,
   "id": "577a233de0760b4f",
   "metadata": {
    "collapsed": true,
    "ExecuteTime": {
     "end_time": "2023-10-21T16:02:50.733787200Z",
     "start_time": "2023-10-21T16:02:50.713285200Z"
    }
   },
   "outputs": [],
   "source": [
    "def process_file(file_path):\n",
    "    try:\n",
    "        dataset = pd.read_csv(file_path)\n",
    "        dataset = preprocess_data(dataset)\n",
    "        dataset = calculate_features(dataset)\n",
    "        dataset = dataset.sort_index(ascending=False)\n",
    "        dataset = dataset.reset_index(drop=True)\n",
    "        save_path = os.path.join(data_folder, os.path.basename(file_path))\n",
    "        dataset.to_csv(save_path, index=False)\n",
    "        print(f\"Processed file: {file_path}\")\n",
    "    except Exception as e:\n",
    "        print(f\"Error processing file: {file_path}\")\n",
    "        print(str(e))\n",
    "def preprocess_data(dataset):\n",
    "    # Remove suffixes \"K\" from the \"Объём\" column\n",
    "    dataset['Объём'] = dataset['Объём'].str.replace('M', '000000').str.replace('K', '000')\n",
    "\n",
    "    # Remove \"%\" from the \"Изм. %\" column\n",
    "    dataset['Изм. %'] = dataset['Изм. %'].str.replace('%', '')\n",
    "\n",
    "    # Convert data types with thousands separators and possible decimal commas\n",
    "    dataset['Дата'] = pd.to_datetime(dataset['Дата'], dayfirst=True)  # Pass dayfirst=True to silence the warning\n",
    "    dataset['Цена'] = pd.to_numeric(dataset['Цена'].str.replace('.', '').str.replace(',', '.'))\n",
    "    dataset['Откр.'] = pd.to_numeric(dataset['Откр.'].str.replace('.', '').str.replace(',', '.'))\n",
    "    dataset['Макс.'] = pd.to_numeric(dataset['Макс.'].str.replace('.', '').str.replace(',', '.'))\n",
    "    dataset['Мин.'] = pd.to_numeric(dataset['Мин.'].str.replace('.', '').str.replace(',', '.'))\n",
    "    dataset['Объём'] = pd.to_numeric(dataset['Объём'].str.replace('.', '').str.replace(',', ''))\n",
    "    dataset['Изм. %'] = pd.to_numeric(dataset['Изм. %'].str.replace(',', '.'))\n",
    "\n",
    "    return dataset\n",
    "def calculate_features(dataset):\n",
    "    # Add additional date-related features\n",
    "    dataset['dayofweek'] = dataset['Дата'].dt.dayofweek\n",
    "    dataset['quarter'] = dataset['Дата'].dt.quarter\n",
    "    dataset['month'] = dataset['Дата'].dt.month\n",
    "    dataset['year'] = dataset['Дата'].dt.year\n",
    "    dataset['dayofyear'] = dataset['Дата'].dt.dayofyear\n",
    "    dataset['dayofmonth'] = dataset['Дата'].dt.day\n",
    "    dataset['weekofyear'] = dataset['Дата'].dt.isocalendar().week\n",
    "\n",
    "    # Calculate moving averages, RSI, and MACD\n",
    "    dataset = calculate_moving_averages(dataset, window=20)\n",
    "    dataset = calculate_rsi(dataset)\n",
    "    dataset = calculate_macd(dataset)\n",
    "\n",
    "    # Interpolate missing values for 'RSI' and 'SMA_20' columns\n",
    "    dataset['RSI'].interpolate(inplace=True)\n",
    "    dataset['SMA_20'].interpolate(inplace=True)\n",
    "\n",
    "    return dataset"
   ]
  },
  {
   "cell_type": "code",
   "execution_count": 3,
   "outputs": [],
   "source": [
    "# Функция для расчета скользящих средних\n",
    "def calculate_moving_averages(data, window):\n",
    "    data['SMA_' + str(window)] = data['Цена'].rolling(window=window).mean()  # Простое скользящее среднее\n",
    "    data['EMA_' + str(window)] = data['Цена'].ewm(span=window, adjust=False).mean()  # Экспоненциальное скользящее среднее\n",
    "    return data\n",
    "# Функция для расчета RSI\n",
    "def calculate_rsi(data, window=14):\n",
    "    delta = data['Цена'].diff(1)\n",
    "    gain = (delta.where(delta > 0, 0)).fillna(0)\n",
    "    loss = (-delta.where(delta < 0, 0)).fillna(0)\n",
    "    avg_gain = gain.rolling(window=window).mean()\n",
    "    avg_loss = loss.rolling(window=window).mean()\n",
    "    rs = avg_gain / avg_loss\n",
    "    rsi = 100 - (100 / (1 + rs))\n",
    "    data['RSI'] = rsi\n",
    "    return data\n",
    "# Функция для расчета MACD\n",
    "def calculate_macd(data, short_window=12, long_window=26, signal_window=9):\n",
    "    short_ema = data['Цена'].ewm(span=short_window, adjust=False).mean()\n",
    "    long_ema = data['Цена'].ewm(span=long_window, adjust=False).mean()\n",
    "    data['MACD'] = short_ema - long_ema\n",
    "    data['Signal_Line'] = data['MACD'].ewm(span=signal_window, adjust=False).mean()\n",
    "    return data"
   ],
   "metadata": {
    "collapsed": false,
    "ExecuteTime": {
     "end_time": "2023-10-21T16:02:52.415924800Z",
     "start_time": "2023-10-21T16:02:52.401619500Z"
    }
   },
   "id": "initial_id"
  },
  {
   "cell_type": "code",
   "execution_count": 4,
   "outputs": [
    {
     "name": "stderr",
     "output_type": "stream",
     "text": [
      "C:\\Users\\User\\anaconda3\\envs\\models_checking\\lib\\site-packages\\h5py\\__init__.py:36: UserWarning: h5py is running against HDF5 1.12.2 when it was built against 1.12.1, this may cause problems\n",
      "  _warn((\"h5py is running against HDF5 {0} when it was built against {1}, \"\n"
     ]
    }
   ],
   "source": [
    "import pandas as pd\n",
    "import os\n",
    "\n",
    "from free_utils import (\n",
    "    file_names,\n",
    "    data_folder\n",
    ")\n",
    "\n"
   ],
   "metadata": {
    "collapsed": false,
    "ExecuteTime": {
     "end_time": "2023-10-21T16:03:01.817229700Z",
     "start_time": "2023-10-21T16:02:52.767722100Z"
    }
   },
   "id": "fe2493f3d9448f8d"
  },
  {
   "cell_type": "code",
   "execution_count": 14,
   "outputs": [
    {
     "name": "stdout",
     "output_type": "stream",
     "text": [
      "Error processing file: ../data\\Прошлые данные - LKOH.csv\n",
      "Cannot save file into a non-existent directory: 'data_updated'\n",
      "Error processing file: ../data\\Прошлые данные - INGR.csv\n",
      "Cannot save file into a non-existent directory: 'data_updated'\n",
      "Error processing file: ../data\\Прошлые данные - LENT.csv\n",
      "Cannot save file into a non-existent directory: 'data_updated'\n",
      "Error processing file: ../data\\Прошлые данные - LSRG.csv\n",
      "Cannot save file into a non-existent directory: 'data_updated'\n",
      "Error processing file: ../data\\Прошлые данные - MVID.csv\n",
      "Cannot save file into a non-existent directory: 'data_updated'\n",
      "Error processing file: ../data\\Прошлые данные - NVTK.csv\n",
      "Cannot save file into a non-existent directory: 'data_updated'\n",
      "Error processing file: ../data\\Прошлые данные - OZONDR.csv\n",
      "Cannot save file into a non-existent directory: 'data_updated'\n",
      "Error processing file: ../data\\Прошлые данные - PIKK.csv\n",
      "Cannot save file into a non-existent directory: 'data_updated'\n",
      "Error processing file: ../data\\Прошлые данные - ROSN.csv\n",
      "Cannot save file into a non-existent directory: 'data_updated'\n",
      "Error processing file: ../data\\Прошлые данные - FIVEDR.csv\n",
      "Cannot save file into a non-existent directory: 'data_updated'\n",
      "Error processing file: ../data\\Прошлые данные - SMLT.csv\n",
      "Cannot save file into a non-existent directory: 'data_updated'\n",
      "Error processing file: ../data\\Прошлые данные - GAZP (3).csv\n",
      "Cannot save file into a non-existent directory: 'data_updated'\n"
     ]
    }
   ],
   "source": [
    "data_folder = 'data_updated'\n",
    "\n",
    "for file_name in file_names:\n",
    "    file_path = os.path.join('../data', file_name)\n",
    "    process_file(file_path)"
   ],
   "metadata": {
    "collapsed": false,
    "ExecuteTime": {
     "end_time": "2023-10-19T13:46:56.111909800Z",
     "start_time": "2023-10-19T13:46:55.543082600Z"
    }
   },
   "id": "a308f99d4c9b2397"
  },
  {
   "cell_type": "code",
   "execution_count": 12,
   "outputs": [
    {
     "data": {
      "text/plain": "'data\\\\Прошлые данные - GAZP (3).csv'"
     },
     "execution_count": 12,
     "metadata": {},
     "output_type": "execute_result"
    }
   ],
   "source": [
    "file_path"
   ],
   "metadata": {
    "collapsed": false,
    "ExecuteTime": {
     "end_time": "2023-10-19T13:45:47.095527600Z",
     "start_time": "2023-10-19T13:45:47.055923900Z"
    }
   },
   "id": "1611e1d96ed11d5e"
  },
  {
   "cell_type": "code",
   "execution_count": null,
   "outputs": [],
   "source": [],
   "metadata": {
    "collapsed": false
   },
   "id": "7aff75bdd6c60392"
  },
  {
   "cell_type": "code",
   "execution_count": 5,
   "outputs": [
    {
     "data": {
      "text/plain": "         Дата    Цена   Откр.   Макс.    Мин.      Объём  Изм. %  dayofweek  \\\n0  2013-01-14  2020.0  2010.9  2021.4  2001.9  117000000    0.69          0   \n1  2013-01-15  2006.0  2018.3  2018.6  2000.2   55997000   -0.69          1   \n2  2013-01-16  2007.6  2006.5  2011.0  1990.5   70856000    0.08          2   \n3  2013-01-17  2012.7  2013.3  2020.0  1996.0   94260000    0.25          3   \n4  2013-01-18  2017.0  2016.0  2022.0  2012.4   65519000    0.21          4   \n\n   quarter  month  year  dayofyear  dayofmonth  weekofyear    SMA_20  \\\n0        1      1  2013         14          14           3  2006.070   \n1        1      1  2013         15          15           3  2004.785   \n2        1      1  2013         16          16           3  2003.990   \n3        1      1  2013         17          17           3  2004.120   \n4        1      1  2013         18          18           3  2003.735   \n\n        EMA_20        RSI      MACD  Signal_Line  \n0  2004.281941  51.827243  5.544697     5.470472  \n1  2002.627408  49.582754  4.699511     5.451916  \n2  2002.272398  47.187293  4.977845     5.640017  \n3  2001.711598  52.541296  5.097786     5.805560  \n4  2000.554924  55.273189  4.657452     5.982504  ",
      "text/html": "<div>\n<style scoped>\n    .dataframe tbody tr th:only-of-type {\n        vertical-align: middle;\n    }\n\n    .dataframe tbody tr th {\n        vertical-align: top;\n    }\n\n    .dataframe thead th {\n        text-align: right;\n    }\n</style>\n<table border=\"1\" class=\"dataframe\">\n  <thead>\n    <tr style=\"text-align: right;\">\n      <th></th>\n      <th>Дата</th>\n      <th>Цена</th>\n      <th>Откр.</th>\n      <th>Макс.</th>\n      <th>Мин.</th>\n      <th>Объём</th>\n      <th>Изм. %</th>\n      <th>dayofweek</th>\n      <th>quarter</th>\n      <th>month</th>\n      <th>year</th>\n      <th>dayofyear</th>\n      <th>dayofmonth</th>\n      <th>weekofyear</th>\n      <th>SMA_20</th>\n      <th>EMA_20</th>\n      <th>RSI</th>\n      <th>MACD</th>\n      <th>Signal_Line</th>\n    </tr>\n  </thead>\n  <tbody>\n    <tr>\n      <th>0</th>\n      <td>2013-01-14</td>\n      <td>2020.0</td>\n      <td>2010.9</td>\n      <td>2021.4</td>\n      <td>2001.9</td>\n      <td>117000000</td>\n      <td>0.69</td>\n      <td>0</td>\n      <td>1</td>\n      <td>1</td>\n      <td>2013</td>\n      <td>14</td>\n      <td>14</td>\n      <td>3</td>\n      <td>2006.070</td>\n      <td>2004.281941</td>\n      <td>51.827243</td>\n      <td>5.544697</td>\n      <td>5.470472</td>\n    </tr>\n    <tr>\n      <th>1</th>\n      <td>2013-01-15</td>\n      <td>2006.0</td>\n      <td>2018.3</td>\n      <td>2018.6</td>\n      <td>2000.2</td>\n      <td>55997000</td>\n      <td>-0.69</td>\n      <td>1</td>\n      <td>1</td>\n      <td>1</td>\n      <td>2013</td>\n      <td>15</td>\n      <td>15</td>\n      <td>3</td>\n      <td>2004.785</td>\n      <td>2002.627408</td>\n      <td>49.582754</td>\n      <td>4.699511</td>\n      <td>5.451916</td>\n    </tr>\n    <tr>\n      <th>2</th>\n      <td>2013-01-16</td>\n      <td>2007.6</td>\n      <td>2006.5</td>\n      <td>2011.0</td>\n      <td>1990.5</td>\n      <td>70856000</td>\n      <td>0.08</td>\n      <td>2</td>\n      <td>1</td>\n      <td>1</td>\n      <td>2013</td>\n      <td>16</td>\n      <td>16</td>\n      <td>3</td>\n      <td>2003.990</td>\n      <td>2002.272398</td>\n      <td>47.187293</td>\n      <td>4.977845</td>\n      <td>5.640017</td>\n    </tr>\n    <tr>\n      <th>3</th>\n      <td>2013-01-17</td>\n      <td>2012.7</td>\n      <td>2013.3</td>\n      <td>2020.0</td>\n      <td>1996.0</td>\n      <td>94260000</td>\n      <td>0.25</td>\n      <td>3</td>\n      <td>1</td>\n      <td>1</td>\n      <td>2013</td>\n      <td>17</td>\n      <td>17</td>\n      <td>3</td>\n      <td>2004.120</td>\n      <td>2001.711598</td>\n      <td>52.541296</td>\n      <td>5.097786</td>\n      <td>5.805560</td>\n    </tr>\n    <tr>\n      <th>4</th>\n      <td>2013-01-18</td>\n      <td>2017.0</td>\n      <td>2016.0</td>\n      <td>2022.0</td>\n      <td>2012.4</td>\n      <td>65519000</td>\n      <td>0.21</td>\n      <td>4</td>\n      <td>1</td>\n      <td>1</td>\n      <td>2013</td>\n      <td>18</td>\n      <td>18</td>\n      <td>3</td>\n      <td>2003.735</td>\n      <td>2000.554924</td>\n      <td>55.273189</td>\n      <td>4.657452</td>\n      <td>5.982504</td>\n    </tr>\n  </tbody>\n</table>\n</div>"
     },
     "execution_count": 5,
     "metadata": {},
     "output_type": "execute_result"
    }
   ],
   "source": [
    "data_lkoh = pd.read_csv('../data_updated/Прошлые данные - LKOH.csv')\n",
    "data_lkoh.head()"
   ],
   "metadata": {
    "collapsed": false,
    "ExecuteTime": {
     "end_time": "2023-10-21T16:03:01.908970600Z",
     "start_time": "2023-10-21T16:03:01.824730200Z"
    }
   },
   "id": "dd0406eccc80974"
  },
  {
   "cell_type": "code",
   "execution_count": 9,
   "outputs": [
    {
     "data": {
      "text/plain": "Дата           2023-10-13\nЦена               7244.0\nОткр.              7143.0\nМакс.              7250.0\nМин.               7136.0\nОбъём           168000000\nИзм. %               1.74\ndayofweek               4\nquarter                 4\nmonth                  10\nyear                 2023\ndayofyear             286\ndayofmonth             13\nweekofyear             41\nSMA_20                NaN\nEMA_20             7244.0\nRSI                   NaN\nMACD                  0.0\nSignal_Line           0.0\nName: 2693, dtype: object"
     },
     "execution_count": 9,
     "metadata": {},
     "output_type": "execute_result"
    }
   ],
   "source": [
    "data_lkoh.iloc[-1]"
   ],
   "metadata": {
    "collapsed": false,
    "ExecuteTime": {
     "end_time": "2023-10-21T16:03:36.363053Z",
     "start_time": "2023-10-21T16:03:36.336576800Z"
    }
   },
   "id": "2da75058ea560d31"
  },
  {
   "cell_type": "code",
   "execution_count": null,
   "outputs": [],
   "source": [],
   "metadata": {
    "collapsed": false
   },
   "id": "47cdff01227c9c52"
  }
 ],
 "metadata": {
  "kernelspec": {
   "display_name": "Python 3",
   "language": "python",
   "name": "python3"
  },
  "language_info": {
   "codemirror_mode": {
    "name": "ipython",
    "version": 2
   },
   "file_extension": ".py",
   "mimetype": "text/x-python",
   "name": "python",
   "nbconvert_exporter": "python",
   "pygments_lexer": "ipython2",
   "version": "2.7.6"
  }
 },
 "nbformat": 4,
 "nbformat_minor": 5
}
