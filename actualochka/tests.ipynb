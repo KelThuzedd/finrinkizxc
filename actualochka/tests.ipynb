{
 "cells": [
  {
   "cell_type": "code",
   "execution_count": null,
   "id": "initial_id",
   "metadata": {
    "collapsed": true
   },
   "outputs": [],
   "source": []
  },
  {
   "cell_type": "code",
   "execution_count": null,
   "outputs": [],
   "source": [
    "# import pandas as pd\n",
    "# from sklearn.metrics import mean_absolute_percentage_error, r2_score\n",
    "# \n",
    "# # Define the models and their paths\n",
    "# models = {\n",
    "#     \"LKOH_50xTrue_50xTrue_False_Dense50_Dense1\": \"models/Прошлые данные - LKOH.csv_LSTM_50xTrue_LSTM_50xTrue_LSTM_50xFalse_Dense50_Dense1_best_model.h5\",\n",
    "#     \"LKOH_50xTrue_50xTrue_50xFalse_Dense1\": \"models/Прошлые данные - LKOH.csv_LSTM_50xTrue_LSTM_50xTrue_LSTM_50xTrue_LSTM_50xFalse_Dense1_best_model.h5\",\n",
    "#     \"LKOH_64xTrue_64xFalse_Dense64_Dense1\": \"models/Прошлые данные - LKOH.csv_LSTM_64xTrue_LSTM_64xFalse_Dense64_Dense1_best_model.h5\",\n",
    "#     \"LKOH_64xTrue_64xTrue_64xFalse_Dense64_Dense64_Dense1\": \"models/Прошлые данные - LKOH.csv_LSTM_64xTrue_LSTM_64xTrue_LSTM_64xFalse_Dense64_Dense64_Dense1_best_model.h5\",\n",
    "#     \"LKOH_100xTrue_100xFalse_Dense128_Dense128_Dense1\": \"models/Прошлые данные - LKOH.csv_LSTM_100xTrue_LSTM_100xFalse_Dense128_Dense128_Dense1_best_model.h5\",\n",
    "#     \"LKOH_100xTrue_100xFalse_Dense256_Dense256_Dense1\": \"models/Прошлые данные - LKOH.csv_LSTM_100xTrue_LSTM_100xFalse_Dense256_Dense256_Dense1_best_model.h5\",\n",
    "#     \"LKOH_100xTrue_100xTrue_100xFalse_Dense128_Dense128_Dense1\": \"models/Прошлые данные - LKOH.csv_LSTM_100xTrue_LSTM_100xTrue_LSTM_100xFalse_Dense128_Dense128_Dense1_best_model.h5\",\n",
    "#     \"LKOH_128xTrue_128xFalse_Dense128_Dense128_Dense1\": \"models/Прошлые данные - LKOH.csv_LSTM_128xTrue_LSTM_128xFalse_Dense128_Dense128_Dense1_best_model.h5\",\n",
    "# }\n",
    "# \n",
    "# # Initialize lists to store the results\n",
    "# mape_list = []\n",
    "# r2_list = []\n",
    "# rmse_list = []\n",
    "# \n",
    "# # Iterate over the models\n",
    "# for model_name, model_path in models.items():\n",
    "#     # Load the model\n",
    "#     loaded_model = load_model(model_path)\n",
    "#     model = loaded_model\n",
    "# \n",
    "#     # Make predictions\n",
    "#     y_hat = model.predict(X_test_ltsm)\n",
    "# \n",
    "#     # Invert scaling for actual and predicted values\n",
    "#     inv_y_hat = scaler.inverse_transform(np.concatenate((y_hat, X_test_ltsm_res[:, (1-n_features):]), axis=1))[:, 0]\n",
    "#     inv_y_test = scaler.inverse_transform(np.concatenate((y_test_ltsm, X_test_ltsm_res[:, (1-n_features):]), axis=1))[:, 0]\n",
    "# \n",
    "#     # Calculate metrics\n",
    "#     mape = mean_absolute_percentage_error(inv_y_test, inv_y_hat)\n",
    "#     r2 = r2_score(inv_y_test, inv_y_hat)\n",
    "#     rmse = sqrt(mean_squared_error(inv_y_test, inv_y_hat))\n",
    "# \n",
    "#     # Append the results to the lists\n",
    "#     mape_list.append(mape)\n",
    "#     r2_list.append(r2)\n",
    "#     rmse_list.append(rmse)\n",
    "# \n",
    "# # Create a DataFrame with the results\n",
    "# results_df = pd.DataFrame({\n",
    "#     \"Model\": list(models.keys()),\n",
    "#     \"MAPE\": mape_list,\n",
    "#     \"R-squared\": r2_list,\n",
    "#     \"RMSE\": rmse_list\n",
    "# })\n",
    "# \n",
    "# # Display the results\n",
    "# print(\"Results for each model:\")\n",
    "# results_df"
   ],
   "metadata": {
    "collapsed": false
   },
   "id": "7fac573399e371b3"
  }
 ],
 "metadata": {
  "kernelspec": {
   "display_name": "Python 3",
   "language": "python",
   "name": "python3"
  },
  "language_info": {
   "codemirror_mode": {
    "name": "ipython",
    "version": 2
   },
   "file_extension": ".py",
   "mimetype": "text/x-python",
   "name": "python",
   "nbconvert_exporter": "python",
   "pygments_lexer": "ipython2",
   "version": "2.7.6"
  }
 },
 "nbformat": 4,
 "nbformat_minor": 5
}
