{
 "cells": [
  {
   "cell_type": "code",
   "execution_count": 2,
   "outputs": [],
   "source": [
    "# Функция для создания датасета для LSTM\n",
    "def create_lstm_dataset(data, time_steps=1, forecast_days=1):\n",
    "    X, y = [], []\n",
    "    for i in range(len(data) - time_steps - forecast_days + 1):\n",
    "        end_ix = i + time_steps\n",
    "        out_end_ix = end_ix + forecast_days\n",
    "        if out_end_ix > len(data):\n",
    "            break\n",
    "        seq_x, seq_y = data[i:end_ix, :], data[end_ix:out_end_ix, -1]\n",
    "        X.append(seq_x)\n",
    "        y.append(seq_y)\n",
    "    return np.array(X), np.array(y)\n"
   ],
   "metadata": {
    "collapsed": false,
    "ExecuteTime": {
     "end_time": "2023-10-19T08:30:55.504976900Z",
     "start_time": "2023-10-19T08:30:55.492015700Z"
    }
   },
   "id": "57c573b2621347fa"
  },
  {
   "cell_type": "code",
   "execution_count": 3,
   "outputs": [],
   "source": [
    "import numpy as np\n",
    "import pandas as pd\n",
    "from sklearn.preprocessing import MinMaxScaler\n",
    "import joblib\n",
    "\n",
    "from free_utils import (\n",
    "    file_names,\n",
    "    n_intervals\n",
    ")"
   ],
   "metadata": {
    "collapsed": false,
    "ExecuteTime": {
     "end_time": "2023-10-19T08:30:58.473019700Z",
     "start_time": "2023-10-19T08:30:55.668638200Z"
    }
   },
   "id": "ce306606cf5cf8d1"
  },
  {
   "cell_type": "code",
   "execution_count": 4,
   "id": "initial_id",
   "metadata": {
    "collapsed": true,
    "ExecuteTime": {
     "end_time": "2023-10-19T08:30:58.555336300Z",
     "start_time": "2023-10-19T08:30:58.477009700Z"
    }
   },
   "outputs": [
    {
     "data": {
      "text/plain": "            Дата    Цена   Откр.   Макс.    Мин.     Объём  Изм. %  dayofweek  \\\n0     2013-01-14   65.16   65.40   65.93   65.08  10149000   -0.31          0   \n1     2013-01-15   66.14   65.16   66.57   64.20  25189000    1.50          1   \n2     2013-01-16   66.10   66.41   67.67   65.57   9318000   -0.06          2   \n3     2013-01-17   65.95   65.98   66.79   65.33   4524000   -0.23          3   \n4     2013-01-18   66.44   66.00   66.70   65.57   5370000    0.74          4   \n...          ...     ...     ...     ...     ...       ...     ...        ...   \n2689  2023-10-09  727.00  727.00  739.20  725.00  41117000   -0.19          0   \n2690  2023-10-10  758.80  726.20  765.00  726.10  89358000    4.37          1   \n2691  2023-10-11  745.60  756.00  776.00  742.10  76936000   -1.74          2   \n2692  2023-10-12  746.00  747.10  753.60  737.50  29616000    0.05          3   \n2693  2023-10-13  741.60  747.50  756.00  735.20  25695000   -0.59          4   \n\n      quarter  month  year  dayofyear  dayofmonth  weekofyear   SMA_20  \\\n0           1      1  2013         14          14           3  66.1045   \n1           1      1  2013         15          15           3  66.1355   \n2           1      1  2013         16          16           3  66.2320   \n3           1      1  2013         17          17           3  66.3530   \n4           1      1  2013         18          18           3  66.4310   \n...       ...    ...   ...        ...         ...         ...      ...   \n2689        4     10  2023        282           9          41      NaN   \n2690        4     10  2023        283          10          41      NaN   \n2691        4     10  2023        284          11          41      NaN   \n2692        4     10  2023        285          12          41      NaN   \n2693        4     10  2023        286          13          41      NaN   \n\n          EMA_20        RSI      MACD  Signal_Line  \n0      65.881669  33.211679  0.057862     0.198163  \n1      65.957635  34.666667  0.132515     0.233238  \n2      65.938438  33.840304  0.126090     0.258419  \n3      65.921432  48.520710  0.120128     0.291501  \n4      65.918425  48.449040  0.126045     0.334344  \n...          ...        ...       ...          ...  \n2689  742.313816        NaN  0.232624     0.449786  \n2690  743.925796        NaN  1.823673     0.504076  \n2691  742.360091        NaN  0.590086     0.174177  \n2692  742.019048        NaN  0.350997     0.070199  \n2693  741.600000        NaN  0.000000     0.000000  \n\n[2694 rows x 19 columns]",
      "text/html": "<div>\n<style scoped>\n    .dataframe tbody tr th:only-of-type {\n        vertical-align: middle;\n    }\n\n    .dataframe tbody tr th {\n        vertical-align: top;\n    }\n\n    .dataframe thead th {\n        text-align: right;\n    }\n</style>\n<table border=\"1\" class=\"dataframe\">\n  <thead>\n    <tr style=\"text-align: right;\">\n      <th></th>\n      <th>Дата</th>\n      <th>Цена</th>\n      <th>Откр.</th>\n      <th>Макс.</th>\n      <th>Мин.</th>\n      <th>Объём</th>\n      <th>Изм. %</th>\n      <th>dayofweek</th>\n      <th>quarter</th>\n      <th>month</th>\n      <th>year</th>\n      <th>dayofyear</th>\n      <th>dayofmonth</th>\n      <th>weekofyear</th>\n      <th>SMA_20</th>\n      <th>EMA_20</th>\n      <th>RSI</th>\n      <th>MACD</th>\n      <th>Signal_Line</th>\n    </tr>\n  </thead>\n  <tbody>\n    <tr>\n      <th>0</th>\n      <td>2013-01-14</td>\n      <td>65.16</td>\n      <td>65.40</td>\n      <td>65.93</td>\n      <td>65.08</td>\n      <td>10149000</td>\n      <td>-0.31</td>\n      <td>0</td>\n      <td>1</td>\n      <td>1</td>\n      <td>2013</td>\n      <td>14</td>\n      <td>14</td>\n      <td>3</td>\n      <td>66.1045</td>\n      <td>65.881669</td>\n      <td>33.211679</td>\n      <td>0.057862</td>\n      <td>0.198163</td>\n    </tr>\n    <tr>\n      <th>1</th>\n      <td>2013-01-15</td>\n      <td>66.14</td>\n      <td>65.16</td>\n      <td>66.57</td>\n      <td>64.20</td>\n      <td>25189000</td>\n      <td>1.50</td>\n      <td>1</td>\n      <td>1</td>\n      <td>1</td>\n      <td>2013</td>\n      <td>15</td>\n      <td>15</td>\n      <td>3</td>\n      <td>66.1355</td>\n      <td>65.957635</td>\n      <td>34.666667</td>\n      <td>0.132515</td>\n      <td>0.233238</td>\n    </tr>\n    <tr>\n      <th>2</th>\n      <td>2013-01-16</td>\n      <td>66.10</td>\n      <td>66.41</td>\n      <td>67.67</td>\n      <td>65.57</td>\n      <td>9318000</td>\n      <td>-0.06</td>\n      <td>2</td>\n      <td>1</td>\n      <td>1</td>\n      <td>2013</td>\n      <td>16</td>\n      <td>16</td>\n      <td>3</td>\n      <td>66.2320</td>\n      <td>65.938438</td>\n      <td>33.840304</td>\n      <td>0.126090</td>\n      <td>0.258419</td>\n    </tr>\n    <tr>\n      <th>3</th>\n      <td>2013-01-17</td>\n      <td>65.95</td>\n      <td>65.98</td>\n      <td>66.79</td>\n      <td>65.33</td>\n      <td>4524000</td>\n      <td>-0.23</td>\n      <td>3</td>\n      <td>1</td>\n      <td>1</td>\n      <td>2013</td>\n      <td>17</td>\n      <td>17</td>\n      <td>3</td>\n      <td>66.3530</td>\n      <td>65.921432</td>\n      <td>48.520710</td>\n      <td>0.120128</td>\n      <td>0.291501</td>\n    </tr>\n    <tr>\n      <th>4</th>\n      <td>2013-01-18</td>\n      <td>66.44</td>\n      <td>66.00</td>\n      <td>66.70</td>\n      <td>65.57</td>\n      <td>5370000</td>\n      <td>0.74</td>\n      <td>4</td>\n      <td>1</td>\n      <td>1</td>\n      <td>2013</td>\n      <td>18</td>\n      <td>18</td>\n      <td>3</td>\n      <td>66.4310</td>\n      <td>65.918425</td>\n      <td>48.449040</td>\n      <td>0.126045</td>\n      <td>0.334344</td>\n    </tr>\n    <tr>\n      <th>...</th>\n      <td>...</td>\n      <td>...</td>\n      <td>...</td>\n      <td>...</td>\n      <td>...</td>\n      <td>...</td>\n      <td>...</td>\n      <td>...</td>\n      <td>...</td>\n      <td>...</td>\n      <td>...</td>\n      <td>...</td>\n      <td>...</td>\n      <td>...</td>\n      <td>...</td>\n      <td>...</td>\n      <td>...</td>\n      <td>...</td>\n      <td>...</td>\n    </tr>\n    <tr>\n      <th>2689</th>\n      <td>2023-10-09</td>\n      <td>727.00</td>\n      <td>727.00</td>\n      <td>739.20</td>\n      <td>725.00</td>\n      <td>41117000</td>\n      <td>-0.19</td>\n      <td>0</td>\n      <td>4</td>\n      <td>10</td>\n      <td>2023</td>\n      <td>282</td>\n      <td>9</td>\n      <td>41</td>\n      <td>NaN</td>\n      <td>742.313816</td>\n      <td>NaN</td>\n      <td>0.232624</td>\n      <td>0.449786</td>\n    </tr>\n    <tr>\n      <th>2690</th>\n      <td>2023-10-10</td>\n      <td>758.80</td>\n      <td>726.20</td>\n      <td>765.00</td>\n      <td>726.10</td>\n      <td>89358000</td>\n      <td>4.37</td>\n      <td>1</td>\n      <td>4</td>\n      <td>10</td>\n      <td>2023</td>\n      <td>283</td>\n      <td>10</td>\n      <td>41</td>\n      <td>NaN</td>\n      <td>743.925796</td>\n      <td>NaN</td>\n      <td>1.823673</td>\n      <td>0.504076</td>\n    </tr>\n    <tr>\n      <th>2691</th>\n      <td>2023-10-11</td>\n      <td>745.60</td>\n      <td>756.00</td>\n      <td>776.00</td>\n      <td>742.10</td>\n      <td>76936000</td>\n      <td>-1.74</td>\n      <td>2</td>\n      <td>4</td>\n      <td>10</td>\n      <td>2023</td>\n      <td>284</td>\n      <td>11</td>\n      <td>41</td>\n      <td>NaN</td>\n      <td>742.360091</td>\n      <td>NaN</td>\n      <td>0.590086</td>\n      <td>0.174177</td>\n    </tr>\n    <tr>\n      <th>2692</th>\n      <td>2023-10-12</td>\n      <td>746.00</td>\n      <td>747.10</td>\n      <td>753.60</td>\n      <td>737.50</td>\n      <td>29616000</td>\n      <td>0.05</td>\n      <td>3</td>\n      <td>4</td>\n      <td>10</td>\n      <td>2023</td>\n      <td>285</td>\n      <td>12</td>\n      <td>41</td>\n      <td>NaN</td>\n      <td>742.019048</td>\n      <td>NaN</td>\n      <td>0.350997</td>\n      <td>0.070199</td>\n    </tr>\n    <tr>\n      <th>2693</th>\n      <td>2023-10-13</td>\n      <td>741.60</td>\n      <td>747.50</td>\n      <td>756.00</td>\n      <td>735.20</td>\n      <td>25695000</td>\n      <td>-0.59</td>\n      <td>4</td>\n      <td>4</td>\n      <td>10</td>\n      <td>2023</td>\n      <td>286</td>\n      <td>13</td>\n      <td>41</td>\n      <td>NaN</td>\n      <td>741.600000</td>\n      <td>NaN</td>\n      <td>0.000000</td>\n      <td>0.000000</td>\n    </tr>\n  </tbody>\n</table>\n<p>2694 rows × 19 columns</p>\n</div>"
     },
     "execution_count": 4,
     "metadata": {},
     "output_type": "execute_result"
    }
   ],
   "source": [
    "file_id = 7\n",
    "file_path = '../data_updated/' + file_names[file_id]\n",
    "\n",
    "# Read the file into a DataFrame\n",
    "dataset = pd.read_csv(file_path)\n",
    "dataset"
   ]
  },
  {
   "cell_type": "code",
   "execution_count": 5,
   "outputs": [
    {
     "name": "stderr",
     "output_type": "stream",
     "text": [
      "C:\\Users\\User\\AppData\\Local\\Temp\\ipykernel_13048\\3912821207.py:8: SettingWithCopyWarning: \n",
      "A value is trying to be set on a copy of a slice from a DataFrame.\n",
      "Try using .loc[row_indexer,col_indexer] = value instead\n",
      "\n",
      "See the caveats in the documentation: https://pandas.pydata.org/pandas-docs/stable/user_guide/indexing.html#returning-a-view-versus-a-copy\n",
      "  df['Цена'] = target_column\n"
     ]
    }
   ],
   "source": [
    "    \n",
    "df = dataset\n",
    "df = df.dropna()\n",
    "# Извлекаем целевую переменную и столбец с датами\n",
    "target_column = df.pop('Цена')\n",
    "dates = df.pop('Дата')\n",
    "\n",
    "# Вставляем целевую переменную в конец DataFrame\n",
    "df['Цена'] = target_column\n",
    "\n",
    "# Преобразуем в numpy массив\n",
    "dataset = df.values\n"
   ],
   "metadata": {
    "collapsed": false,
    "ExecuteTime": {
     "end_time": "2023-10-19T08:30:58.595229500Z",
     "start_time": "2023-10-19T08:30:58.557331100Z"
    }
   },
   "id": "c720349b799d7f98"
  },
  {
   "cell_type": "code",
   "execution_count": 6,
   "outputs": [],
   "source": [
    "    \n",
    "# Создаем датасет для LSTM\n",
    "time_steps = n_intervals  # Количество временных шагов\n",
    "forecast_days = 1  # Количество дней для предсказания\n",
    "# Normalize the dataset using Min-Max scaling\n",
    "scaler = MinMaxScaler(feature_range=(0, 1))\n",
    "normalized_dataset = scaler.fit_transform(dataset)\n",
    "\n",
    "X_ltsm, y_ltsm = create_lstm_dataset(normalized_dataset, time_steps, forecast_days)\n"
   ],
   "metadata": {
    "collapsed": false,
    "ExecuteTime": {
     "end_time": "2023-10-19T08:30:58.675532900Z",
     "start_time": "2023-10-19T08:30:58.573287800Z"
    }
   },
   "id": "57d9920d26dd8fe4"
  },
  {
   "cell_type": "code",
   "execution_count": 7,
   "outputs": [
    {
     "name": "stdout",
     "output_type": "stream",
     "text": [
      "Размеры X_train_ltsm, y_train_ltsm, X_test_ltsm, y_test_ltsm:\n",
      "(2044, 120, 18) (2044, 1) (511, 120, 18) (511, 1)\n"
     ]
    }
   ],
   "source": [
    "\n",
    "# Разделяем на обучающий и тестовый наборы данных\n",
    "train_size = int(len(X_ltsm) * 0.8)\n",
    "X_train_ltsm, X_test_ltsm = X_ltsm[:train_size], X_ltsm[train_size:]\n",
    "y_train_ltsm, y_testt_ltsm = y_ltsm[:train_size], y_ltsm[train_size:]\n",
    "# Сохраняем scaler_X и scaler_y в файлы\n",
    "\n",
    "scaler_filename = '../scalers/'+file_names[file_id]+'_scaler.pkl'\n",
    "with open(scaler_filename, 'wb') as scaler_file:\n",
    "    joblib.dump(scaler, scaler_file)\n",
    "\n",
    "\n",
    "# Выводим размеры полученных датасетов\n",
    "print(\"Размеры X_train_ltsm, y_train_ltsm, X_test_ltsm, y_test_ltsm:\")\n",
    "print(X_train_ltsm.shape, y_train_ltsm.shape, X_test_ltsm.shape, y_testt_ltsm.shape)\n"
   ],
   "metadata": {
    "collapsed": false,
    "ExecuteTime": {
     "end_time": "2023-10-19T08:30:59.259145600Z",
     "start_time": "2023-10-19T08:30:59.226686900Z"
    }
   },
   "id": "62a996441864d3d3"
  },
  {
   "cell_type": "code",
   "execution_count": 8,
   "outputs": [
    {
     "name": "stdout",
     "output_type": "stream",
     "text": [
      "Data saved to ../datasets\\X_train_ltsm_Прошлые данные - PIKK.csv and ../datasets\\X_test_ltsm_Прошлые данные - PIKK.csv\n",
      "Data saved to ../datasets\\y_train_ltsm_Прошлые данные - PIKK.csv and ../datasets\\y_test_ltsm_Прошлые данные - PIKK.csv\n"
     ]
    }
   ],
   "source": [
    "    import os\n",
    "    \n",
    "    # Путь к папке, где будем сохранять датасеты\n",
    "    datasets_folder = '../datasets'\n",
    "    \n",
    "    # Создадим папку, если её нет\n",
    "    os.makedirs(datasets_folder, exist_ok=True)\n",
    "    \n",
    "    # Сохранение данных X_train и y_train_ltsm\n",
    "    X_train_ltsm_file_path = os.path.join(datasets_folder, f'X_train_ltsm_{file_names[file_id]}')\n",
    "    X_test_ltsm_file_path = os.path.join(datasets_folder, f'X_test_ltsm_{file_names[file_id]}')\n",
    "    y_train_ltsm_file_path = os.path.join(datasets_folder, f'y_train_ltsm_{file_names[file_id]}')\n",
    "    y_test_ltsm_file_path = os.path.join(datasets_folder, f'y_test_ltsm_{file_names[file_id]}')\n",
    "    \n",
    "    np.save(X_train_ltsm_file_path, X_train_ltsm)\n",
    "    np.save(X_test_ltsm_file_path, X_test_ltsm)\n",
    "    \n",
    "    np.save(y_train_ltsm_file_path, y_train_ltsm)\n",
    "    np.save(y_test_ltsm_file_path, y_testt_ltsm)\n",
    "    \n",
    "    print(f'Data saved to {X_train_ltsm_file_path} and {X_test_ltsm_file_path}')\n",
    "    print(f'Data saved to {y_train_ltsm_file_path} and {y_test_ltsm_file_path}')\n"
   ],
   "metadata": {
    "collapsed": false,
    "ExecuteTime": {
     "end_time": "2023-10-19T08:30:59.856571500Z",
     "start_time": "2023-10-19T08:30:59.793204200Z"
    }
   },
   "id": "b0064eeac2516516"
  },
  {
   "cell_type": "code",
   "execution_count": 8,
   "outputs": [],
   "source": [
    "# dataset_with_shift=dataset\n",
    "# #Сдвигаем на одну позицию вперед целевую переменную\n",
    "# #Target_1 это лаг наооборот для целевой переменной , типа предсказываем на день вперед\n",
    "# # dataset_with_shift['future_1'] = dataset['Цена'].shift(1)\n",
    "# # dataset_with_shift.dropna(inplace=True)\n",
    "# # \n",
    "# # dataset_with_shift\n",
    "# \n",
    "# X_xgboost = dataset.drop(['Цена','Дата'],axis=1)\n",
    "# y_xgboost = dataset['Target_1']  # Целевая переменная\n",
    "# X_xgboost = y_xgboost[-len(X_ltsm):]\n",
    "# y_xgboost = X_xgboost[-len(X_ltsm):]"
   ],
   "metadata": {
    "collapsed": false,
    "ExecuteTime": {
     "end_time": "2023-10-18T21:24:34.375726400Z",
     "start_time": "2023-10-18T21:24:34.256034100Z"
    }
   },
   "id": "3f0d16f956dd2a25"
  }
 ],
 "metadata": {
  "kernelspec": {
   "display_name": "Python 3",
   "language": "python",
   "name": "python3"
  },
  "language_info": {
   "codemirror_mode": {
    "name": "ipython",
    "version": 2
   },
   "file_extension": ".py",
   "mimetype": "text/x-python",
   "name": "python",
   "nbconvert_exporter": "python",
   "pygments_lexer": "ipython2",
   "version": "2.7.6"
  }
 },
 "nbformat": 4,
 "nbformat_minor": 5
}
