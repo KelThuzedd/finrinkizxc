{
 "cells": [
  {
   "cell_type": "code",
   "execution_count": 1,
   "outputs": [],
   "source": [
    "# Функция для создания датасета для LSTM\n",
    "def create_lstm_dataset(data, time_steps=1, forecast_days=1):\n",
    "    X, y = [], []\n",
    "    for i in range(len(data) - time_steps - forecast_days + 1):\n",
    "        end_ix = i + time_steps\n",
    "        out_end_ix = end_ix + forecast_days\n",
    "        if out_end_ix > len(data):\n",
    "            break\n",
    "        seq_x, seq_y = data[i:end_ix, :], data[end_ix:out_end_ix, -1]\n",
    "        X.append(seq_x)\n",
    "        y.append(seq_y)\n",
    "    return np.array(X), np.array(y)\n"
   ],
   "metadata": {
    "collapsed": false,
    "ExecuteTime": {
     "end_time": "2023-10-18T21:24:32.381295300Z",
     "start_time": "2023-10-18T21:24:32.345867Z"
    }
   },
   "id": "57c573b2621347fa"
  },
  {
   "cell_type": "code",
   "execution_count": 2,
   "outputs": [],
   "source": [
    "import numpy as np\n",
    "import pandas as pd\n",
    "from sklearn.preprocessing import MinMaxScaler\n",
    "import joblib\n",
    "\n",
    "from free_utils import (\n",
    "    file_names,\n",
    "    n_intervals\n",
    ")"
   ],
   "metadata": {
    "collapsed": false,
    "ExecuteTime": {
     "end_time": "2023-10-18T21:24:34.064122800Z",
     "start_time": "2023-10-18T21:24:32.364116Z"
    }
   },
   "id": "ce306606cf5cf8d1"
  },
  {
   "cell_type": "code",
   "execution_count": 3,
   "id": "initial_id",
   "metadata": {
    "collapsed": true,
    "ExecuteTime": {
     "end_time": "2023-10-18T21:24:34.134303800Z",
     "start_time": "2023-10-18T21:24:34.068645900Z"
    }
   },
   "outputs": [
    {
     "data": {
      "text/plain": "            Дата    Цена   Откр.   Макс.    Мин.     Объём  Изм. %  dayofweek  \\\n0     2013-01-14  250.50  249.19  251.69  246.37  12173000    1.09          0   \n1     2013-01-15  251.00  251.50  255.00  247.33  15977000    0.20          1   \n2     2013-01-16  252.50  251.01  254.98  248.60   9309000    0.60          2   \n3     2013-01-17  245.49  251.70  253.47  245.00  21241000   -2.78          3   \n4     2013-01-18  245.82  246.00  246.89  239.01  19380000    0.13          4   \n...          ...     ...     ...     ...     ...       ...     ...        ...   \n2687  2023-10-09  189.10  187.80  191.90  187.70  57131000    0.96          0   \n2688  2023-10-10  191.70  190.00  192.00  189.10  19047000    1.37          1   \n2689  2023-10-11  188.80  192.00  193.60  187.60  54770000   -1.51          2   \n2690  2023-10-12  191.70  188.00  193.00  187.20  41655000    1.54          3   \n2691  2023-10-13  190.90  193.30  193.30  189.20  33158000   -0.42          4   \n\n      quarter  month  year  dayofyear  dayofmonth  weekofyear    SMA_20  \\\n0           1      1  2013         14          14           3  254.5075   \n1           1      1  2013         15          15           3  255.2090   \n2           1      1  2013         16          16           3  256.1885   \n3           1      1  2013         17          17           3  257.2885   \n4           1      1  2013         18          18           3  258.8640   \n...       ...    ...   ...        ...         ...         ...       ...   \n2687        4     10  2023        282           9          41       NaN   \n2688        4     10  2023        283          10          41       NaN   \n2689        4     10  2023        284          11          41       NaN   \n2690        4     10  2023        285          12          41       NaN   \n2691        4     10  2023        286          13          41       NaN   \n\n          EMA_20        RSI      MACD  Signal_Line  \n0     253.922471  34.080189 -4.536622    -4.399342  \n1     254.282732  34.486874 -4.853714    -4.365022  \n2     254.628282  35.925926 -5.238748    -4.242849  \n3     254.852312  22.447157 -5.806719    -3.993875  \n4     255.837818  22.222222 -5.733450    -3.540664  \n...          ...        ...       ...          ...  \n2687  190.690216        NaN -0.164748    -0.046064  \n2688  190.857607        NaN -0.028207    -0.016393  \n2689  190.768934        NaN -0.118249    -0.013439  \n2690  190.976190        NaN  0.063818     0.012764  \n2691  190.900000        NaN  0.000000     0.000000  \n\n[2692 rows x 19 columns]",
      "text/html": "<div>\n<style scoped>\n    .dataframe tbody tr th:only-of-type {\n        vertical-align: middle;\n    }\n\n    .dataframe tbody tr th {\n        vertical-align: top;\n    }\n\n    .dataframe thead th {\n        text-align: right;\n    }\n</style>\n<table border=\"1\" class=\"dataframe\">\n  <thead>\n    <tr style=\"text-align: right;\">\n      <th></th>\n      <th>Дата</th>\n      <th>Цена</th>\n      <th>Откр.</th>\n      <th>Макс.</th>\n      <th>Мин.</th>\n      <th>Объём</th>\n      <th>Изм. %</th>\n      <th>dayofweek</th>\n      <th>quarter</th>\n      <th>month</th>\n      <th>year</th>\n      <th>dayofyear</th>\n      <th>dayofmonth</th>\n      <th>weekofyear</th>\n      <th>SMA_20</th>\n      <th>EMA_20</th>\n      <th>RSI</th>\n      <th>MACD</th>\n      <th>Signal_Line</th>\n    </tr>\n  </thead>\n  <tbody>\n    <tr>\n      <th>0</th>\n      <td>2013-01-14</td>\n      <td>250.50</td>\n      <td>249.19</td>\n      <td>251.69</td>\n      <td>246.37</td>\n      <td>12173000</td>\n      <td>1.09</td>\n      <td>0</td>\n      <td>1</td>\n      <td>1</td>\n      <td>2013</td>\n      <td>14</td>\n      <td>14</td>\n      <td>3</td>\n      <td>254.5075</td>\n      <td>253.922471</td>\n      <td>34.080189</td>\n      <td>-4.536622</td>\n      <td>-4.399342</td>\n    </tr>\n    <tr>\n      <th>1</th>\n      <td>2013-01-15</td>\n      <td>251.00</td>\n      <td>251.50</td>\n      <td>255.00</td>\n      <td>247.33</td>\n      <td>15977000</td>\n      <td>0.20</td>\n      <td>1</td>\n      <td>1</td>\n      <td>1</td>\n      <td>2013</td>\n      <td>15</td>\n      <td>15</td>\n      <td>3</td>\n      <td>255.2090</td>\n      <td>254.282732</td>\n      <td>34.486874</td>\n      <td>-4.853714</td>\n      <td>-4.365022</td>\n    </tr>\n    <tr>\n      <th>2</th>\n      <td>2013-01-16</td>\n      <td>252.50</td>\n      <td>251.01</td>\n      <td>254.98</td>\n      <td>248.60</td>\n      <td>9309000</td>\n      <td>0.60</td>\n      <td>2</td>\n      <td>1</td>\n      <td>1</td>\n      <td>2013</td>\n      <td>16</td>\n      <td>16</td>\n      <td>3</td>\n      <td>256.1885</td>\n      <td>254.628282</td>\n      <td>35.925926</td>\n      <td>-5.238748</td>\n      <td>-4.242849</td>\n    </tr>\n    <tr>\n      <th>3</th>\n      <td>2013-01-17</td>\n      <td>245.49</td>\n      <td>251.70</td>\n      <td>253.47</td>\n      <td>245.00</td>\n      <td>21241000</td>\n      <td>-2.78</td>\n      <td>3</td>\n      <td>1</td>\n      <td>1</td>\n      <td>2013</td>\n      <td>17</td>\n      <td>17</td>\n      <td>3</td>\n      <td>257.2885</td>\n      <td>254.852312</td>\n      <td>22.447157</td>\n      <td>-5.806719</td>\n      <td>-3.993875</td>\n    </tr>\n    <tr>\n      <th>4</th>\n      <td>2013-01-18</td>\n      <td>245.82</td>\n      <td>246.00</td>\n      <td>246.89</td>\n      <td>239.01</td>\n      <td>19380000</td>\n      <td>0.13</td>\n      <td>4</td>\n      <td>1</td>\n      <td>1</td>\n      <td>2013</td>\n      <td>18</td>\n      <td>18</td>\n      <td>3</td>\n      <td>258.8640</td>\n      <td>255.837818</td>\n      <td>22.222222</td>\n      <td>-5.733450</td>\n      <td>-3.540664</td>\n    </tr>\n    <tr>\n      <th>...</th>\n      <td>...</td>\n      <td>...</td>\n      <td>...</td>\n      <td>...</td>\n      <td>...</td>\n      <td>...</td>\n      <td>...</td>\n      <td>...</td>\n      <td>...</td>\n      <td>...</td>\n      <td>...</td>\n      <td>...</td>\n      <td>...</td>\n      <td>...</td>\n      <td>...</td>\n      <td>...</td>\n      <td>...</td>\n      <td>...</td>\n      <td>...</td>\n    </tr>\n    <tr>\n      <th>2687</th>\n      <td>2023-10-09</td>\n      <td>189.10</td>\n      <td>187.80</td>\n      <td>191.90</td>\n      <td>187.70</td>\n      <td>57131000</td>\n      <td>0.96</td>\n      <td>0</td>\n      <td>4</td>\n      <td>10</td>\n      <td>2023</td>\n      <td>282</td>\n      <td>9</td>\n      <td>41</td>\n      <td>NaN</td>\n      <td>190.690216</td>\n      <td>NaN</td>\n      <td>-0.164748</td>\n      <td>-0.046064</td>\n    </tr>\n    <tr>\n      <th>2688</th>\n      <td>2023-10-10</td>\n      <td>191.70</td>\n      <td>190.00</td>\n      <td>192.00</td>\n      <td>189.10</td>\n      <td>19047000</td>\n      <td>1.37</td>\n      <td>1</td>\n      <td>4</td>\n      <td>10</td>\n      <td>2023</td>\n      <td>283</td>\n      <td>10</td>\n      <td>41</td>\n      <td>NaN</td>\n      <td>190.857607</td>\n      <td>NaN</td>\n      <td>-0.028207</td>\n      <td>-0.016393</td>\n    </tr>\n    <tr>\n      <th>2689</th>\n      <td>2023-10-11</td>\n      <td>188.80</td>\n      <td>192.00</td>\n      <td>193.60</td>\n      <td>187.60</td>\n      <td>54770000</td>\n      <td>-1.51</td>\n      <td>2</td>\n      <td>4</td>\n      <td>10</td>\n      <td>2023</td>\n      <td>284</td>\n      <td>11</td>\n      <td>41</td>\n      <td>NaN</td>\n      <td>190.768934</td>\n      <td>NaN</td>\n      <td>-0.118249</td>\n      <td>-0.013439</td>\n    </tr>\n    <tr>\n      <th>2690</th>\n      <td>2023-10-12</td>\n      <td>191.70</td>\n      <td>188.00</td>\n      <td>193.00</td>\n      <td>187.20</td>\n      <td>41655000</td>\n      <td>1.54</td>\n      <td>3</td>\n      <td>4</td>\n      <td>10</td>\n      <td>2023</td>\n      <td>285</td>\n      <td>12</td>\n      <td>41</td>\n      <td>NaN</td>\n      <td>190.976190</td>\n      <td>NaN</td>\n      <td>0.063818</td>\n      <td>0.012764</td>\n    </tr>\n    <tr>\n      <th>2691</th>\n      <td>2023-10-13</td>\n      <td>190.90</td>\n      <td>193.30</td>\n      <td>193.30</td>\n      <td>189.20</td>\n      <td>33158000</td>\n      <td>-0.42</td>\n      <td>4</td>\n      <td>4</td>\n      <td>10</td>\n      <td>2023</td>\n      <td>286</td>\n      <td>13</td>\n      <td>41</td>\n      <td>NaN</td>\n      <td>190.900000</td>\n      <td>NaN</td>\n      <td>0.000000</td>\n      <td>0.000000</td>\n    </tr>\n  </tbody>\n</table>\n<p>2692 rows × 19 columns</p>\n</div>"
     },
     "execution_count": 3,
     "metadata": {},
     "output_type": "execute_result"
    }
   ],
   "source": [
    "file_id = 4\n",
    "file_path = '../data_updated/' + file_names[file_id]\n",
    "\n",
    "# Read the file into a DataFrame\n",
    "dataset = pd.read_csv(file_path)\n",
    "dataset"
   ]
  },
  {
   "cell_type": "code",
   "execution_count": 4,
   "outputs": [
    {
     "name": "stderr",
     "output_type": "stream",
     "text": [
      "C:\\Users\\User\\AppData\\Local\\Temp\\ipykernel_17288\\3912821207.py:8: SettingWithCopyWarning: \n",
      "A value is trying to be set on a copy of a slice from a DataFrame.\n",
      "Try using .loc[row_indexer,col_indexer] = value instead\n",
      "\n",
      "See the caveats in the documentation: https://pandas.pydata.org/pandas-docs/stable/user_guide/indexing.html#returning-a-view-versus-a-copy\n",
      "  df['Цена'] = target_column\n"
     ]
    }
   ],
   "source": [
    "    \n",
    "df = dataset\n",
    "df = df.dropna()\n",
    "# Извлекаем целевую переменную и столбец с датами\n",
    "target_column = df.pop('Цена')\n",
    "dates = df.pop('Дата')\n",
    "\n",
    "# Вставляем целевую переменную в конец DataFrame\n",
    "df['Цена'] = target_column\n",
    "\n",
    "# Преобразуем в numpy массив\n",
    "dataset = df.values\n"
   ],
   "metadata": {
    "collapsed": false,
    "ExecuteTime": {
     "end_time": "2023-10-18T21:24:34.174969900Z",
     "start_time": "2023-10-18T21:24:34.133303Z"
    }
   },
   "id": "c720349b799d7f98"
  },
  {
   "cell_type": "code",
   "execution_count": 5,
   "outputs": [],
   "source": [
    "    \n",
    "# Создаем датасет для LSTM\n",
    "time_steps = n_intervals  # Количество временных шагов\n",
    "forecast_days = 1  # Количество дней для предсказания\n",
    "# Normalize the dataset using Min-Max scaling\n",
    "scaler = MinMaxScaler(feature_range=(0, 1))\n",
    "normalized_dataset = scaler.fit_transform(dataset)\n",
    "\n",
    "X_ltsm, y_ltsm = create_lstm_dataset(normalized_dataset, time_steps, forecast_days)\n"
   ],
   "metadata": {
    "collapsed": false,
    "ExecuteTime": {
     "end_time": "2023-10-18T21:24:34.221622300Z",
     "start_time": "2023-10-18T21:24:34.149313200Z"
    }
   },
   "id": "57d9920d26dd8fe4"
  },
  {
   "cell_type": "code",
   "execution_count": 6,
   "outputs": [
    {
     "name": "stdout",
     "output_type": "stream",
     "text": [
      "Размеры X_train_ltsm, y_train_ltsm, X_test_ltsm, y_test_ltsm:\n",
      "(2042, 120, 18) (2042, 1) (511, 120, 18) (511, 1)\n"
     ]
    }
   ],
   "source": [
    "\n",
    "# Разделяем на обучающий и тестовый наборы данных\n",
    "train_size = int(len(X_ltsm) * 0.8)\n",
    "X_train_ltsm, X_test_ltsm = X_ltsm[:train_size], X_ltsm[train_size:]\n",
    "y_train_ltsm, y_testt_ltsm = y_ltsm[:train_size], y_ltsm[train_size:]\n",
    "# Сохраняем scaler_X и scaler_y в файлы\n",
    "\n",
    "scaler_filename = '../scalers/'+file_names[file_id]+'_scaler.pkl'\n",
    "with open(scaler_filename, 'wb') as scaler_file:\n",
    "    joblib.dump(scaler, scaler_file)\n",
    "\n",
    "\n",
    "# Выводим размеры полученных датасетов\n",
    "print(\"Размеры X_train_ltsm, y_train_ltsm, X_test_ltsm, y_test_ltsm:\")\n",
    "print(X_train_ltsm.shape, y_train_ltsm.shape, X_test_ltsm.shape, y_testt_ltsm.shape)\n"
   ],
   "metadata": {
    "collapsed": false,
    "ExecuteTime": {
     "end_time": "2023-10-18T21:24:34.282654600Z",
     "start_time": "2023-10-18T21:24:34.179472500Z"
    }
   },
   "id": "62a996441864d3d3"
  },
  {
   "cell_type": "code",
   "execution_count": 7,
   "outputs": [
    {
     "name": "stdout",
     "output_type": "stream",
     "text": [
      "Data saved to ../datasets\\X_train_ltsm_Прошлые данные - MVID.csv and ../datasets\\X_test_ltsm_Прошлые данные - MVID.csv\n",
      "Data saved to ../datasets\\y_train_ltsm_Прошлые данные - MVID.csv and ../datasets\\y_test_ltsm_Прошлые данные - MVID.csv\n"
     ]
    }
   ],
   "source": [
    "    import os\n",
    "    \n",
    "    # Путь к папке, где будем сохранять датасеты\n",
    "    datasets_folder = '../datasets'\n",
    "    \n",
    "    # Создадим папку, если её нет\n",
    "    os.makedirs(datasets_folder, exist_ok=True)\n",
    "    \n",
    "    # Сохранение данных X_train и y_train_ltsm\n",
    "    X_train_ltsm_file_path = os.path.join(datasets_folder, f'X_train_ltsm_{file_names[file_id]}')\n",
    "    X_test_ltsm_file_path = os.path.join(datasets_folder, f'X_test_ltsm_{file_names[file_id]}')\n",
    "    y_train_ltsm_file_path = os.path.join(datasets_folder, f'y_train_ltsm_{file_names[file_id]}')\n",
    "    y_test_ltsm_file_path = os.path.join(datasets_folder, f'y_test_ltsm_{file_names[file_id]}')\n",
    "    \n",
    "    np.save(X_train_ltsm_file_path, X_train_ltsm)\n",
    "    np.save(X_test_ltsm_file_path, X_test_ltsm)\n",
    "    \n",
    "    np.save(y_train_ltsm_file_path, y_train_ltsm)\n",
    "    np.save(y_test_ltsm_file_path, y_testt_ltsm)\n",
    "    \n",
    "    print(f'Data saved to {X_train_ltsm_file_path} and {X_test_ltsm_file_path}')\n",
    "    print(f'Data saved to {y_train_ltsm_file_path} and {y_test_ltsm_file_path}')\n"
   ],
   "metadata": {
    "collapsed": false,
    "ExecuteTime": {
     "end_time": "2023-10-18T21:24:34.375726400Z",
     "start_time": "2023-10-18T21:24:34.196466600Z"
    }
   },
   "id": "b0064eeac2516516"
  },
  {
   "cell_type": "code",
   "execution_count": 8,
   "outputs": [],
   "source": [
    "# dataset_with_shift=dataset\n",
    "# #Сдвигаем на одну позицию вперед целевую переменную\n",
    "# #Target_1 это лаг наооборот для целевой переменной , типа предсказываем на день вперед\n",
    "# # dataset_with_shift['future_1'] = dataset['Цена'].shift(1)\n",
    "# # dataset_with_shift.dropna(inplace=True)\n",
    "# # \n",
    "# # dataset_with_shift\n",
    "# \n",
    "# X_xgboost = dataset.drop(['Цена','Дата'],axis=1)\n",
    "# y_xgboost = dataset['Target_1']  # Целевая переменная\n",
    "# X_xgboost = y_xgboost[-len(X_ltsm):]\n",
    "# y_xgboost = X_xgboost[-len(X_ltsm):]"
   ],
   "metadata": {
    "collapsed": false,
    "ExecuteTime": {
     "end_time": "2023-10-18T21:24:34.375726400Z",
     "start_time": "2023-10-18T21:24:34.256034100Z"
    }
   },
   "id": "3f0d16f956dd2a25"
  }
 ],
 "metadata": {
  "kernelspec": {
   "display_name": "Python 3",
   "language": "python",
   "name": "python3"
  },
  "language_info": {
   "codemirror_mode": {
    "name": "ipython",
    "version": 2
   },
   "file_extension": ".py",
   "mimetype": "text/x-python",
   "name": "python",
   "nbconvert_exporter": "python",
   "pygments_lexer": "ipython2",
   "version": "2.7.6"
  }
 },
 "nbformat": 4,
 "nbformat_minor": 5
}
