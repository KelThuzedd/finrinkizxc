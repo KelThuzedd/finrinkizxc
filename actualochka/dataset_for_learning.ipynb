{
 "cells": [
  {
   "cell_type": "code",
   "execution_count": 1,
   "outputs": [],
   "source": [
    "# Функция для создания датасета для LSTM\n",
    "def create_lstm_dataset(data, time_steps=1, forecast_days=1):\n",
    "    X, y = [], []\n",
    "    for i in range(len(data) - time_steps - forecast_days + 1):\n",
    "        end_ix = i + time_steps\n",
    "        out_end_ix = end_ix + forecast_days\n",
    "        if out_end_ix > len(data):\n",
    "            break\n",
    "        seq_x, seq_y = data[i:end_ix, :], data[end_ix:out_end_ix, -1]\n",
    "        X.append(seq_x)\n",
    "        y.append(seq_y)\n",
    "    return np.array(X), np.array(y)\n"
   ],
   "metadata": {
    "collapsed": false,
    "ExecuteTime": {
     "end_time": "2023-10-24T22:55:13.237877700Z",
     "start_time": "2023-10-24T22:55:13.221322500Z"
    }
   },
   "id": "57c573b2621347fa"
  },
  {
   "cell_type": "code",
   "execution_count": 10,
   "outputs": [],
   "source": [
    "import numpy as np\n",
    "import pandas as pd\n",
    "from sklearn.preprocessing import MinMaxScaler\n",
    "import joblib\n",
    "\n",
    "from free_utils import (\n",
    "    file_names,\n",
    "    n_intervals\n",
    ")"
   ],
   "metadata": {
    "collapsed": false,
    "ExecuteTime": {
     "end_time": "2023-10-19T13:53:21.574896900Z",
     "start_time": "2023-10-19T13:53:21.553784500Z"
    }
   },
   "id": "ce306606cf5cf8d1"
  },
  {
   "cell_type": "code",
   "execution_count": 12,
   "id": "initial_id",
   "metadata": {
    "collapsed": true,
    "ExecuteTime": {
     "end_time": "2023-10-19T13:53:29.679646300Z",
     "start_time": "2023-10-19T13:53:29.614954Z"
    }
   },
   "outputs": [
    {
     "data": {
      "text/plain": "            Дата    Цена   Откр.   Макс.    Мин.       Объём  Изм. %  \\\n0     2013-01-14  149.60  148.55  149.85  148.20  2871000000    1.10   \n1     2013-01-15  147.73  149.48  149.60  147.71  2601000000   -1.25   \n2     2013-01-16  146.42  147.70  148.40  146.03  3160000000   -0.89   \n3     2013-01-17  147.70  146.67  148.23  146.37  3180000000    0.87   \n4     2013-01-18  148.42  148.43  149.23  148.13  2764000000    0.49   \n...          ...     ...     ...     ...     ...         ...     ...   \n2689  2023-10-09  167.06  167.30  167.97  166.62  2175000000    0.28   \n2690  2023-10-10  168.03  167.37  168.80  166.86  1858000000    0.58   \n2691  2023-10-11  167.89  168.50  171.40  167.30  5998000000   -0.08   \n2692  2023-10-12  169.50  167.90  169.80  167.40  3185000000    0.96   \n2693  2023-10-13  170.20  169.90  170.79  167.15  3862000000    0.41   \n\n      dayofweek  quarter  month  year  dayofyear  dayofmonth  weekofyear  \\\n0             0        1      1  2013         14          14           3   \n1             1        1      1  2013         15          15           3   \n2             2        1      1  2013         16          16           3   \n3             3        1      1  2013         17          17           3   \n4             4        1      1  2013         18          18           3   \n...         ...      ...    ...   ...        ...         ...         ...   \n2689          0        4     10  2023        282           9          41   \n2690          1        4     10  2023        283          10          41   \n2691          2        4     10  2023        284          11          41   \n2692          3        4     10  2023        285          12          41   \n2693          4        4     10  2023        286          13          41   \n\n        SMA_20      EMA_20        RSI      MACD  Signal_Line  \n0     144.6675  144.848034  73.582474  2.822895     2.677856  \n1     143.9520  144.347827  71.645920  2.739619     2.641596  \n2     143.2305  143.991809  69.056604  2.783880     2.617090  \n3     142.7670  143.736210  79.002234  2.933261     2.575393  \n4     142.0920  143.318969  84.682713  2.950934     2.485926  \n...        ...         ...        ...       ...          ...  \n2689       NaN  169.484502        NaN -0.515963    -0.193701  \n2690       NaN  169.739713        NaN -0.348030    -0.113135  \n2691       NaN  169.919683        NaN -0.227387    -0.054412  \n2692       NaN  170.133333        NaN -0.055840    -0.011168  \n2693       NaN  170.200000        NaN  0.000000     0.000000  \n\n[2694 rows x 19 columns]",
      "text/html": "<div>\n<style scoped>\n    .dataframe tbody tr th:only-of-type {\n        vertical-align: middle;\n    }\n\n    .dataframe tbody tr th {\n        vertical-align: top;\n    }\n\n    .dataframe thead th {\n        text-align: right;\n    }\n</style>\n<table border=\"1\" class=\"dataframe\">\n  <thead>\n    <tr style=\"text-align: right;\">\n      <th></th>\n      <th>Дата</th>\n      <th>Цена</th>\n      <th>Откр.</th>\n      <th>Макс.</th>\n      <th>Мин.</th>\n      <th>Объём</th>\n      <th>Изм. %</th>\n      <th>dayofweek</th>\n      <th>quarter</th>\n      <th>month</th>\n      <th>year</th>\n      <th>dayofyear</th>\n      <th>dayofmonth</th>\n      <th>weekofyear</th>\n      <th>SMA_20</th>\n      <th>EMA_20</th>\n      <th>RSI</th>\n      <th>MACD</th>\n      <th>Signal_Line</th>\n    </tr>\n  </thead>\n  <tbody>\n    <tr>\n      <th>0</th>\n      <td>2013-01-14</td>\n      <td>149.60</td>\n      <td>148.55</td>\n      <td>149.85</td>\n      <td>148.20</td>\n      <td>2871000000</td>\n      <td>1.10</td>\n      <td>0</td>\n      <td>1</td>\n      <td>1</td>\n      <td>2013</td>\n      <td>14</td>\n      <td>14</td>\n      <td>3</td>\n      <td>144.6675</td>\n      <td>144.848034</td>\n      <td>73.582474</td>\n      <td>2.822895</td>\n      <td>2.677856</td>\n    </tr>\n    <tr>\n      <th>1</th>\n      <td>2013-01-15</td>\n      <td>147.73</td>\n      <td>149.48</td>\n      <td>149.60</td>\n      <td>147.71</td>\n      <td>2601000000</td>\n      <td>-1.25</td>\n      <td>1</td>\n      <td>1</td>\n      <td>1</td>\n      <td>2013</td>\n      <td>15</td>\n      <td>15</td>\n      <td>3</td>\n      <td>143.9520</td>\n      <td>144.347827</td>\n      <td>71.645920</td>\n      <td>2.739619</td>\n      <td>2.641596</td>\n    </tr>\n    <tr>\n      <th>2</th>\n      <td>2013-01-16</td>\n      <td>146.42</td>\n      <td>147.70</td>\n      <td>148.40</td>\n      <td>146.03</td>\n      <td>3160000000</td>\n      <td>-0.89</td>\n      <td>2</td>\n      <td>1</td>\n      <td>1</td>\n      <td>2013</td>\n      <td>16</td>\n      <td>16</td>\n      <td>3</td>\n      <td>143.2305</td>\n      <td>143.991809</td>\n      <td>69.056604</td>\n      <td>2.783880</td>\n      <td>2.617090</td>\n    </tr>\n    <tr>\n      <th>3</th>\n      <td>2013-01-17</td>\n      <td>147.70</td>\n      <td>146.67</td>\n      <td>148.23</td>\n      <td>146.37</td>\n      <td>3180000000</td>\n      <td>0.87</td>\n      <td>3</td>\n      <td>1</td>\n      <td>1</td>\n      <td>2013</td>\n      <td>17</td>\n      <td>17</td>\n      <td>3</td>\n      <td>142.7670</td>\n      <td>143.736210</td>\n      <td>79.002234</td>\n      <td>2.933261</td>\n      <td>2.575393</td>\n    </tr>\n    <tr>\n      <th>4</th>\n      <td>2013-01-18</td>\n      <td>148.42</td>\n      <td>148.43</td>\n      <td>149.23</td>\n      <td>148.13</td>\n      <td>2764000000</td>\n      <td>0.49</td>\n      <td>4</td>\n      <td>1</td>\n      <td>1</td>\n      <td>2013</td>\n      <td>18</td>\n      <td>18</td>\n      <td>3</td>\n      <td>142.0920</td>\n      <td>143.318969</td>\n      <td>84.682713</td>\n      <td>2.950934</td>\n      <td>2.485926</td>\n    </tr>\n    <tr>\n      <th>...</th>\n      <td>...</td>\n      <td>...</td>\n      <td>...</td>\n      <td>...</td>\n      <td>...</td>\n      <td>...</td>\n      <td>...</td>\n      <td>...</td>\n      <td>...</td>\n      <td>...</td>\n      <td>...</td>\n      <td>...</td>\n      <td>...</td>\n      <td>...</td>\n      <td>...</td>\n      <td>...</td>\n      <td>...</td>\n      <td>...</td>\n      <td>...</td>\n    </tr>\n    <tr>\n      <th>2689</th>\n      <td>2023-10-09</td>\n      <td>167.06</td>\n      <td>167.30</td>\n      <td>167.97</td>\n      <td>166.62</td>\n      <td>2175000000</td>\n      <td>0.28</td>\n      <td>0</td>\n      <td>4</td>\n      <td>10</td>\n      <td>2023</td>\n      <td>282</td>\n      <td>9</td>\n      <td>41</td>\n      <td>NaN</td>\n      <td>169.484502</td>\n      <td>NaN</td>\n      <td>-0.515963</td>\n      <td>-0.193701</td>\n    </tr>\n    <tr>\n      <th>2690</th>\n      <td>2023-10-10</td>\n      <td>168.03</td>\n      <td>167.37</td>\n      <td>168.80</td>\n      <td>166.86</td>\n      <td>1858000000</td>\n      <td>0.58</td>\n      <td>1</td>\n      <td>4</td>\n      <td>10</td>\n      <td>2023</td>\n      <td>283</td>\n      <td>10</td>\n      <td>41</td>\n      <td>NaN</td>\n      <td>169.739713</td>\n      <td>NaN</td>\n      <td>-0.348030</td>\n      <td>-0.113135</td>\n    </tr>\n    <tr>\n      <th>2691</th>\n      <td>2023-10-11</td>\n      <td>167.89</td>\n      <td>168.50</td>\n      <td>171.40</td>\n      <td>167.30</td>\n      <td>5998000000</td>\n      <td>-0.08</td>\n      <td>2</td>\n      <td>4</td>\n      <td>10</td>\n      <td>2023</td>\n      <td>284</td>\n      <td>11</td>\n      <td>41</td>\n      <td>NaN</td>\n      <td>169.919683</td>\n      <td>NaN</td>\n      <td>-0.227387</td>\n      <td>-0.054412</td>\n    </tr>\n    <tr>\n      <th>2692</th>\n      <td>2023-10-12</td>\n      <td>169.50</td>\n      <td>167.90</td>\n      <td>169.80</td>\n      <td>167.40</td>\n      <td>3185000000</td>\n      <td>0.96</td>\n      <td>3</td>\n      <td>4</td>\n      <td>10</td>\n      <td>2023</td>\n      <td>285</td>\n      <td>12</td>\n      <td>41</td>\n      <td>NaN</td>\n      <td>170.133333</td>\n      <td>NaN</td>\n      <td>-0.055840</td>\n      <td>-0.011168</td>\n    </tr>\n    <tr>\n      <th>2693</th>\n      <td>2023-10-13</td>\n      <td>170.20</td>\n      <td>169.90</td>\n      <td>170.79</td>\n      <td>167.15</td>\n      <td>3862000000</td>\n      <td>0.41</td>\n      <td>4</td>\n      <td>4</td>\n      <td>10</td>\n      <td>2023</td>\n      <td>286</td>\n      <td>13</td>\n      <td>41</td>\n      <td>NaN</td>\n      <td>170.200000</td>\n      <td>NaN</td>\n      <td>0.000000</td>\n      <td>0.000000</td>\n    </tr>\n  </tbody>\n</table>\n<p>2694 rows × 19 columns</p>\n</div>"
     },
     "execution_count": 12,
     "metadata": {},
     "output_type": "execute_result"
    }
   ],
   "source": [
    "file_id = 11\n",
    "file_path = '../data_updated/' + file_names[file_id]\n",
    "\n",
    "# Read the file into a DataFrame\n",
    "dataset = pd.read_csv(file_path)\n",
    "dataset"
   ]
  },
  {
   "cell_type": "code",
   "execution_count": 15,
   "outputs": [
    {
     "ename": "AttributeError",
     "evalue": "'numpy.ndarray' object has no attribute 'dropna'",
     "output_type": "error",
     "traceback": [
      "\u001B[1;31m---------------------------------------------------------------------------\u001B[0m",
      "\u001B[1;31mAttributeError\u001B[0m                            Traceback (most recent call last)",
      "Cell \u001B[1;32mIn[15], line 2\u001B[0m\n\u001B[0;32m      1\u001B[0m df \u001B[38;5;241m=\u001B[39m dataset\n\u001B[1;32m----> 2\u001B[0m df \u001B[38;5;241m=\u001B[39m \u001B[43mdf\u001B[49m\u001B[38;5;241;43m.\u001B[39;49m\u001B[43mdropna\u001B[49m()\n\u001B[0;32m      3\u001B[0m \u001B[38;5;66;03m# Извлекаем целевую переменную и столбец с датами\u001B[39;00m\n\u001B[0;32m      4\u001B[0m target_column \u001B[38;5;241m=\u001B[39m df\u001B[38;5;241m.\u001B[39mpop(\u001B[38;5;124m'\u001B[39m\u001B[38;5;124mЦена\u001B[39m\u001B[38;5;124m'\u001B[39m)\n",
      "\u001B[1;31mAttributeError\u001B[0m: 'numpy.ndarray' object has no attribute 'dropna'"
     ]
    }
   ],
   "source": [
    "    \n",
    "df = dataset\n",
    "df = df.dropna()\n",
    "# Извлекаем целевую переменную и столбец с датами\n",
    "target_column = df.pop('Цена')\n",
    "dates = df.pop('Дата')\n",
    "\n",
    "# Вставляем целевую переменную в конец DataFrame\n",
    "df['Цена'] = target_column\n",
    "\n",
    "# Преобразуем в numpy массив\n",
    "dataset = df.values\n"
   ],
   "metadata": {
    "collapsed": false,
    "ExecuteTime": {
     "end_time": "2023-10-19T13:56:59.364847200Z",
     "start_time": "2023-10-19T13:56:59.325861600Z"
    }
   },
   "id": "c720349b799d7f98"
  },
  {
   "cell_type": "code",
   "execution_count": 16,
   "outputs": [],
   "source": [
    "    \n",
    "# Создаем датасет для LSTM\n",
    "time_steps = n_intervals  # Количество временных шагов\n",
    "forecast_days = 1  # Количество дней для предсказания\n",
    "# Normalize the dataset using Min-Max scaling\n",
    "scaler = MinMaxScaler(feature_range=(0, 1))\n",
    "normalized_dataset = scaler.fit_transform(dataset)\n",
    "\n",
    "X_ltsm, y_ltsm = create_lstm_dataset(normalized_dataset, time_steps, forecast_days)\n"
   ],
   "metadata": {
    "collapsed": false,
    "ExecuteTime": {
     "end_time": "2023-10-19T13:57:00.585568300Z",
     "start_time": "2023-10-19T13:57:00.539309100Z"
    }
   },
   "id": "57d9920d26dd8fe4"
  },
  {
   "cell_type": "code",
   "execution_count": 17,
   "outputs": [
    {
     "name": "stdout",
     "output_type": "stream",
     "text": [
      "Размеры X_train_ltsm, y_train_ltsm, X_test_ltsm, y_test_ltsm:\n",
      "(2044, 120, 18) (2044, 1) (511, 120, 18) (511, 1)\n"
     ]
    }
   ],
   "source": [
    "\n",
    "# Разделяем на обучающий и тестовый наборы данных\n",
    "train_size = int(len(X_ltsm) * 0.8)\n",
    "X_train_ltsm, X_test_ltsm = X_ltsm[:train_size], X_ltsm[train_size:]\n",
    "y_train_ltsm, y_testt_ltsm = y_ltsm[:train_size], y_ltsm[train_size:]\n",
    "# Сохраняем scaler_X и scaler_y в файлы\n",
    "\n",
    "scaler_filename = '../scalers/'+file_names[file_id]+'_scaler.pkl'\n",
    "with open(scaler_filename, 'wb') as scaler_file:\n",
    "    joblib.dump(scaler, scaler_file)\n",
    "\n",
    "\n",
    "# Выводим размеры полученных датасетов\n",
    "print(\"Размеры X_train_ltsm, y_train_ltsm, X_test_ltsm, y_test_ltsm:\")\n",
    "print(X_train_ltsm.shape, y_train_ltsm.shape, X_test_ltsm.shape, y_testt_ltsm.shape)\n"
   ],
   "metadata": {
    "collapsed": false,
    "ExecuteTime": {
     "end_time": "2023-10-19T13:57:03.552667300Z",
     "start_time": "2023-10-19T13:57:03.517207900Z"
    }
   },
   "id": "62a996441864d3d3"
  },
  {
   "cell_type": "code",
   "execution_count": 8,
   "outputs": [
    {
     "name": "stdout",
     "output_type": "stream",
     "text": [
      "Data saved to ../datasets\\X_train_ltsm_Прошлые данные - PIKK.csv and ../datasets\\X_test_ltsm_Прошлые данные - PIKK.csv\n",
      "Data saved to ../datasets\\y_train_ltsm_Прошлые данные - PIKK.csv and ../datasets\\y_test_ltsm_Прошлые данные - PIKK.csv\n"
     ]
    }
   ],
   "source": [
    "    import os\n",
    "    \n",
    "    # Путь к папке, где будем сохранять датасеты\n",
    "    datasets_folder = '../datasets'\n",
    "    \n",
    "    # Создадим папку, если её нет\n",
    "    os.makedirs(datasets_folder, exist_ok=True)\n",
    "    \n",
    "    # Сохранение данных X_train и y_train_ltsm\n",
    "    X_train_ltsm_file_path = os.path.join(datasets_folder, f'X_train_ltsm_{file_names[file_id]}')\n",
    "    X_test_ltsm_file_path = os.path.join(datasets_folder, f'X_test_ltsm_{file_names[file_id]}')\n",
    "    y_train_ltsm_file_path = os.path.join(datasets_folder, f'y_train_ltsm_{file_names[file_id]}')\n",
    "    y_test_ltsm_file_path = os.path.join(datasets_folder, f'y_test_ltsm_{file_names[file_id]}')\n",
    "    \n",
    "    np.save(X_train_ltsm_file_path, X_train_ltsm)\n",
    "    np.save(X_test_ltsm_file_path, X_test_ltsm)\n",
    "    \n",
    "    np.save(y_train_ltsm_file_path, y_train_ltsm)\n",
    "    np.save(y_test_ltsm_file_path, y_testt_ltsm)\n",
    "    \n",
    "    print(f'Data saved to {X_train_ltsm_file_path} and {X_test_ltsm_file_path}')\n",
    "    print(f'Data saved to {y_train_ltsm_file_path} and {y_test_ltsm_file_path}')\n"
   ],
   "metadata": {
    "collapsed": false,
    "ExecuteTime": {
     "end_time": "2023-10-19T08:30:59.856571500Z",
     "start_time": "2023-10-19T08:30:59.793204200Z"
    }
   },
   "id": "b0064eeac2516516"
  },
  {
   "cell_type": "code",
   "execution_count": 8,
   "outputs": [],
   "source": [
    "# dataset_with_shift=dataset\n",
    "# #Сдвигаем на одну позицию вперед целевую переменную\n",
    "# #Target_1 это лаг наооборот для целевой переменной , типа предсказываем на день вперед\n",
    "# # dataset_with_shift['future_1'] = dataset['Цена'].shift(1)\n",
    "# # dataset_with_shift.dropna(inplace=True)\n",
    "# # \n",
    "# # dataset_with_shift\n",
    "# \n",
    "# X_xgboost = dataset.drop(['Цена','Дата'],axis=1)\n",
    "# y_xgboost = dataset['Target_1']  # Целевая переменная\n",
    "# X_xgboost = y_xgboost[-len(X_ltsm):]\n",
    "# y_xgboost = X_xgboost[-len(X_ltsm):]"
   ],
   "metadata": {
    "collapsed": false,
    "ExecuteTime": {
     "end_time": "2023-10-18T21:24:34.375726400Z",
     "start_time": "2023-10-18T21:24:34.256034100Z"
    }
   },
   "id": "3f0d16f956dd2a25"
  }
 ],
 "metadata": {
  "kernelspec": {
   "display_name": "Python 3",
   "language": "python",
   "name": "python3"
  },
  "language_info": {
   "codemirror_mode": {
    "name": "ipython",
    "version": 2
   },
   "file_extension": ".py",
   "mimetype": "text/x-python",
   "name": "python",
   "nbconvert_exporter": "python",
   "pygments_lexer": "ipython2",
   "version": "2.7.6"
  }
 },
 "nbformat": 4,
 "nbformat_minor": 5
}
