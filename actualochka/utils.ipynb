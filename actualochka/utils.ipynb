{
 "cells": [
  {
   "cell_type": "code",
   "execution_count": null,
   "id": "initial_id",
   "metadata": {
    "collapsed": true
   },
   "outputs": [],
   "source": [
    "data_lkoh = data_lkoh.sort_index(ascending=False)\n",
    "data_lkoh = data_lkoh.reset_index(drop=True)\n",
    "data_lkoh\n",
    "# Сдвигаем цену на следующий день\n",
    "data_lkoh['Target'] = data_lkoh['Цена'].shift(-1)\n",
    "\n",
    "# Удаляем последнюю строку, так как у нее не будет цены на следующий день\n",
    "data_lkoh.dropna(inplace=True)\n",
    "\n",
    "# Посмотрим на обновленный датасет\n",
    "data_lkoh.head()\n"
   ]
  },
  {
   "cell_type": "code",
   "execution_count": null,
   "outputs": [],
   "source": [
    "data = data_lkoh[['Target']]\n",
    "train_size = int(len(data) * 0.8)\n",
    "# scaler = MinMaxScaler(feature_range=(0,1))\n",
    "# data['Target'] = scaler.fit_transform(data['Target'].values.reshape(-1, 1))"
   ],
   "metadata": {
    "collapsed": false
   },
   "id": "49f329bac0d93416"
  }
 ],
 "metadata": {
  "kernelspec": {
   "display_name": "Python 3",
   "language": "python",
   "name": "python3"
  },
  "language_info": {
   "codemirror_mode": {
    "name": "ipython",
    "version": 2
   },
   "file_extension": ".py",
   "mimetype": "text/x-python",
   "name": "python",
   "nbconvert_exporter": "python",
   "pygments_lexer": "ipython2",
   "version": "2.7.6"
  }
 },
 "nbformat": 4,
 "nbformat_minor": 5
}
