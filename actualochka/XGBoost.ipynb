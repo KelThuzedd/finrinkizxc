{
 "cells": [
  {
   "cell_type": "code",
   "execution_count": 6,
   "id": "9f6b8abb5308c6a0",
   "metadata": {
    "collapsed": true,
    "ExecuteTime": {
     "end_time": "2023-10-18T14:26:41.658895100Z",
     "start_time": "2023-10-18T14:26:41.633665400Z"
    }
   },
   "outputs": [],
   "source": [
    "from sklearn.ensemble import RandomForestRegressor\n",
    "import xgboost as xgb\n",
    "import numpy as np\n",
    "import pandas as pd\n",
    "\n",
    "from free_utils import (\n",
    "    file_names,\n",
    "    data_folder\n",
    ")"
   ]
  },
  {
   "cell_type": "code",
   "execution_count": 10,
   "outputs": [
    {
     "data": {
      "text/plain": "            Дата    Цена   Откр.   Макс.    Мин.      Объём  Изм. %  \\\n0     2013-01-14  2020.0  2010.9  2021.4  2001.9  117000000    0.69   \n1     2013-01-15  2006.0  2018.3  2018.6  2000.2   55997000   -0.69   \n2     2013-01-16  2007.6  2006.5  2011.0  1990.5   70856000    0.08   \n3     2013-01-17  2012.7  2013.3  2020.0  1996.0   94260000    0.25   \n4     2013-01-18  2017.0  2016.0  2022.0  2012.4   65519000    0.21   \n...          ...     ...     ...     ...     ...        ...     ...   \n2689  2023-10-09  6863.5  6880.0  6895.5  6822.0  111000000    0.98   \n2690  2023-10-10  6853.5  6874.0  6880.0  6822.5   55220000   -0.15   \n2691  2023-10-11  6890.5  6864.5  7099.5  6835.5  347000000    0.54   \n2692  2023-10-12  7120.0  6862.5  7154.0  6848.0  272000000    3.33   \n2693  2023-10-13  7244.0  7143.0  7250.0  7136.0  168000000    1.74   \n\n      dayofweek  quarter  month  year  dayofyear  dayofmonth  weekofyear  \\\n0             0        1      1  2013         14          14           3   \n1             1        1      1  2013         15          15           3   \n2             2        1      1  2013         16          16           3   \n3             3        1      1  2013         17          17           3   \n4             4        1      1  2013         18          18           3   \n...         ...      ...    ...   ...        ...         ...         ...   \n2689          0        4     10  2023        282           9          41   \n2690          1        4     10  2023        283          10          41   \n2691          2        4     10  2023        284          11          41   \n2692          3        4     10  2023        285          12          41   \n2693          4        4     10  2023        286          13          41   \n\n        SMA_20       EMA_20        RSI       MACD  Signal_Line  Target_1  \n0     2006.070  2004.281941  51.827243   5.544697     5.470472       NaN  \n1     2004.785  2002.627408  49.582754   4.699511     5.451916    2020.0  \n2     2003.990  2002.272398  47.187293   4.977845     5.640017    2006.0  \n3     2004.120  2001.711598  52.541296   5.097786     5.805560    2007.6  \n4     2003.735  2000.554924  55.273189   4.657452     5.982504    2012.7  \n...        ...          ...        ...        ...          ...       ...  \n2689       NaN  7137.807524        NaN -75.158655   -30.024858    6797.0  \n2690       NaN  7166.682000        NaN -58.707016   -18.741408    6863.5  \n2691       NaN  7199.648526        NaN -35.836641    -8.750006    6853.5  \n2692       NaN  7232.190476        NaN  -9.891738    -1.978348    6890.5  \n2693       NaN  7244.000000        NaN   0.000000     0.000000    7120.0  \n\n[2694 rows x 20 columns]",
      "text/html": "<div>\n<style scoped>\n    .dataframe tbody tr th:only-of-type {\n        vertical-align: middle;\n    }\n\n    .dataframe tbody tr th {\n        vertical-align: top;\n    }\n\n    .dataframe thead th {\n        text-align: right;\n    }\n</style>\n<table border=\"1\" class=\"dataframe\">\n  <thead>\n    <tr style=\"text-align: right;\">\n      <th></th>\n      <th>Дата</th>\n      <th>Цена</th>\n      <th>Откр.</th>\n      <th>Макс.</th>\n      <th>Мин.</th>\n      <th>Объём</th>\n      <th>Изм. %</th>\n      <th>dayofweek</th>\n      <th>quarter</th>\n      <th>month</th>\n      <th>year</th>\n      <th>dayofyear</th>\n      <th>dayofmonth</th>\n      <th>weekofyear</th>\n      <th>SMA_20</th>\n      <th>EMA_20</th>\n      <th>RSI</th>\n      <th>MACD</th>\n      <th>Signal_Line</th>\n      <th>Target_1</th>\n    </tr>\n  </thead>\n  <tbody>\n    <tr>\n      <th>0</th>\n      <td>2013-01-14</td>\n      <td>2020.0</td>\n      <td>2010.9</td>\n      <td>2021.4</td>\n      <td>2001.9</td>\n      <td>117000000</td>\n      <td>0.69</td>\n      <td>0</td>\n      <td>1</td>\n      <td>1</td>\n      <td>2013</td>\n      <td>14</td>\n      <td>14</td>\n      <td>3</td>\n      <td>2006.070</td>\n      <td>2004.281941</td>\n      <td>51.827243</td>\n      <td>5.544697</td>\n      <td>5.470472</td>\n      <td>NaN</td>\n    </tr>\n    <tr>\n      <th>1</th>\n      <td>2013-01-15</td>\n      <td>2006.0</td>\n      <td>2018.3</td>\n      <td>2018.6</td>\n      <td>2000.2</td>\n      <td>55997000</td>\n      <td>-0.69</td>\n      <td>1</td>\n      <td>1</td>\n      <td>1</td>\n      <td>2013</td>\n      <td>15</td>\n      <td>15</td>\n      <td>3</td>\n      <td>2004.785</td>\n      <td>2002.627408</td>\n      <td>49.582754</td>\n      <td>4.699511</td>\n      <td>5.451916</td>\n      <td>2020.0</td>\n    </tr>\n    <tr>\n      <th>2</th>\n      <td>2013-01-16</td>\n      <td>2007.6</td>\n      <td>2006.5</td>\n      <td>2011.0</td>\n      <td>1990.5</td>\n      <td>70856000</td>\n      <td>0.08</td>\n      <td>2</td>\n      <td>1</td>\n      <td>1</td>\n      <td>2013</td>\n      <td>16</td>\n      <td>16</td>\n      <td>3</td>\n      <td>2003.990</td>\n      <td>2002.272398</td>\n      <td>47.187293</td>\n      <td>4.977845</td>\n      <td>5.640017</td>\n      <td>2006.0</td>\n    </tr>\n    <tr>\n      <th>3</th>\n      <td>2013-01-17</td>\n      <td>2012.7</td>\n      <td>2013.3</td>\n      <td>2020.0</td>\n      <td>1996.0</td>\n      <td>94260000</td>\n      <td>0.25</td>\n      <td>3</td>\n      <td>1</td>\n      <td>1</td>\n      <td>2013</td>\n      <td>17</td>\n      <td>17</td>\n      <td>3</td>\n      <td>2004.120</td>\n      <td>2001.711598</td>\n      <td>52.541296</td>\n      <td>5.097786</td>\n      <td>5.805560</td>\n      <td>2007.6</td>\n    </tr>\n    <tr>\n      <th>4</th>\n      <td>2013-01-18</td>\n      <td>2017.0</td>\n      <td>2016.0</td>\n      <td>2022.0</td>\n      <td>2012.4</td>\n      <td>65519000</td>\n      <td>0.21</td>\n      <td>4</td>\n      <td>1</td>\n      <td>1</td>\n      <td>2013</td>\n      <td>18</td>\n      <td>18</td>\n      <td>3</td>\n      <td>2003.735</td>\n      <td>2000.554924</td>\n      <td>55.273189</td>\n      <td>4.657452</td>\n      <td>5.982504</td>\n      <td>2012.7</td>\n    </tr>\n    <tr>\n      <th>...</th>\n      <td>...</td>\n      <td>...</td>\n      <td>...</td>\n      <td>...</td>\n      <td>...</td>\n      <td>...</td>\n      <td>...</td>\n      <td>...</td>\n      <td>...</td>\n      <td>...</td>\n      <td>...</td>\n      <td>...</td>\n      <td>...</td>\n      <td>...</td>\n      <td>...</td>\n      <td>...</td>\n      <td>...</td>\n      <td>...</td>\n      <td>...</td>\n      <td>...</td>\n    </tr>\n    <tr>\n      <th>2689</th>\n      <td>2023-10-09</td>\n      <td>6863.5</td>\n      <td>6880.0</td>\n      <td>6895.5</td>\n      <td>6822.0</td>\n      <td>111000000</td>\n      <td>0.98</td>\n      <td>0</td>\n      <td>4</td>\n      <td>10</td>\n      <td>2023</td>\n      <td>282</td>\n      <td>9</td>\n      <td>41</td>\n      <td>NaN</td>\n      <td>7137.807524</td>\n      <td>NaN</td>\n      <td>-75.158655</td>\n      <td>-30.024858</td>\n      <td>6797.0</td>\n    </tr>\n    <tr>\n      <th>2690</th>\n      <td>2023-10-10</td>\n      <td>6853.5</td>\n      <td>6874.0</td>\n      <td>6880.0</td>\n      <td>6822.5</td>\n      <td>55220000</td>\n      <td>-0.15</td>\n      <td>1</td>\n      <td>4</td>\n      <td>10</td>\n      <td>2023</td>\n      <td>283</td>\n      <td>10</td>\n      <td>41</td>\n      <td>NaN</td>\n      <td>7166.682000</td>\n      <td>NaN</td>\n      <td>-58.707016</td>\n      <td>-18.741408</td>\n      <td>6863.5</td>\n    </tr>\n    <tr>\n      <th>2691</th>\n      <td>2023-10-11</td>\n      <td>6890.5</td>\n      <td>6864.5</td>\n      <td>7099.5</td>\n      <td>6835.5</td>\n      <td>347000000</td>\n      <td>0.54</td>\n      <td>2</td>\n      <td>4</td>\n      <td>10</td>\n      <td>2023</td>\n      <td>284</td>\n      <td>11</td>\n      <td>41</td>\n      <td>NaN</td>\n      <td>7199.648526</td>\n      <td>NaN</td>\n      <td>-35.836641</td>\n      <td>-8.750006</td>\n      <td>6853.5</td>\n    </tr>\n    <tr>\n      <th>2692</th>\n      <td>2023-10-12</td>\n      <td>7120.0</td>\n      <td>6862.5</td>\n      <td>7154.0</td>\n      <td>6848.0</td>\n      <td>272000000</td>\n      <td>3.33</td>\n      <td>3</td>\n      <td>4</td>\n      <td>10</td>\n      <td>2023</td>\n      <td>285</td>\n      <td>12</td>\n      <td>41</td>\n      <td>NaN</td>\n      <td>7232.190476</td>\n      <td>NaN</td>\n      <td>-9.891738</td>\n      <td>-1.978348</td>\n      <td>6890.5</td>\n    </tr>\n    <tr>\n      <th>2693</th>\n      <td>2023-10-13</td>\n      <td>7244.0</td>\n      <td>7143.0</td>\n      <td>7250.0</td>\n      <td>7136.0</td>\n      <td>168000000</td>\n      <td>1.74</td>\n      <td>4</td>\n      <td>4</td>\n      <td>10</td>\n      <td>2023</td>\n      <td>286</td>\n      <td>13</td>\n      <td>41</td>\n      <td>NaN</td>\n      <td>7244.000000</td>\n      <td>NaN</td>\n      <td>0.000000</td>\n      <td>0.000000</td>\n      <td>7120.0</td>\n    </tr>\n  </tbody>\n</table>\n<p>2694 rows × 20 columns</p>\n</div>"
     },
     "execution_count": 10,
     "metadata": {},
     "output_type": "execute_result"
    }
   ],
   "source": [
    "file_path = '../data_updated/' + file_names[0]\n",
    "\n",
    "# Read the file into a DataFrame\n",
    "dataset = pd.read_csv(file_path)\n",
    "dataset_with_shift=dataset\n",
    "#Сдвигаем на одну позицию вперед целевую переменную\n",
    "#Target_1 это лаг наооборот для целевой переменной , типа предсказываем на день вперед\n",
    "dataset_with_shift['Target_1'] = dataset['Цена'].shift(1)\n",
    "dataset_with_shift.dropna(inplace=True)\n",
    "\n",
    "dataset_with_shift"
   ],
   "metadata": {
    "collapsed": false,
    "ExecuteTime": {
     "end_time": "2023-10-18T14:32:28.796375100Z",
     "start_time": "2023-10-18T14:32:28.734325100Z"
    }
   },
   "id": "ad936f85aa9bad9c"
  },
  {
   "cell_type": "code",
   "execution_count": 11,
   "outputs": [],
   "source": [
    "X = dataset.drop(['Цена','Дата'],axis=1)\n",
    "y = dataset['Target_1']  # Целевая переменная"
   ],
   "metadata": {
    "collapsed": false,
    "ExecuteTime": {
     "end_time": "2023-10-18T14:32:49.879870800Z",
     "start_time": "2023-10-18T14:32:49.852844100Z"
    }
   },
   "id": "70931b9a20a4213e"
  },
  {
   "cell_type": "code",
   "execution_count": null,
   "outputs": [],
   "source": [
    "\n",
    "\n",
    "X = X[-len(X_ltsm):]\n",
    "y = y[-len(X_ltsm):]\n",
    "\n",
    "\n",
    "# Разделение данных на обучающую и тестовую выборки\n",
    "X_train,X_test = X[:train_size], X[train_size:]\n",
    "y_train,y_test = y[:train_size], y[train_size:]"
   ],
   "metadata": {
    "collapsed": false
   },
   "id": "initial_id"
  },
  {
   "cell_type": "code",
   "execution_count": null,
   "outputs": [],
   "source": [
    "\n",
    "# Convert y_train and y_test to DataFrame objects\n",
    "y_train_df = pd.DataFrame(y_train)\n",
    "y_test_df = pd.DataFrame(y_test)\n",
    "\n",
    "# Save X_train, X_test, y_train_df, and y_test_df to Parquet files\n",
    "X_train.to_parquet('data/X_train.parquet')\n",
    "X_test.to_parquet('data/X_test.parquet')\n",
    "y_train_df.to_parquet('data/y_train.parquet')\n",
    "y_test_df.to_parquet('data/y_test.parquet')\n",
    "\n",
    "params = {\n",
    "    'tree_method': 'hist',\n",
    "    'device': 'cuda',\n",
    "    'max_depth': 4,\n",
    "    'n_estimators': 1100,\n",
    "    'learning_rate': 0.2683229089980892,\n",
    "    'subsample': 0.9,\n",
    "    'gamma': 0.16553627228872347,\n",
    "    'min_child_weight': 0.999734816446258,\n",
    "    'max_delta_step': 0.32058180713235257,\n",
    "    'colsample_bytree': 0.6664839820394654,\n",
    "    'reg_alpha': 0.032217023806391465,\n",
    "    'reg_lambda': 0.0010841335583071654,\n",
    "    'scale_pos_weight': 0.2122327545777681\n",
    "}"
   ],
   "metadata": {
    "collapsed": false
   },
   "id": "9910e8aa276c7c"
  },
  {
   "cell_type": "code",
   "execution_count": null,
   "outputs": [],
   "source": [
    "\n",
    "# Создание и обучение модели XGBoost\n",
    "# model_xgb = xgb.XGBRegressor(max_depth=3, n_estimators=50, learning_rate = 0.5, gamma=0.6, alpha=0.2, reg_lambda=0.2,tree_method='hist',device = 'cuda')  # Подберите параметры по необходимости\n",
    "model_xgb = xgb.XGBRegressor(**params)  # Подберите параметры по необходимости\n",
    "model_xgb.fit(X_train, y_train)\n",
    "\n",
    "# Прогнозирование\n",
    "xgb_predictions_train = model_xgb.predict(X_train)\n",
    "\n",
    "\n",
    "# Create and train the Random Forest model\n",
    "model_rf = RandomForestRegressor(max_depth=3, n_estimators=200,max_features= 'log2' )  # Adjust the parameters as needed\n",
    "model_rf.fit(X_train, y_train)\n",
    "\n",
    "# Predict\n",
    "rf_predictions_train = model_rf.predict(X_train)"
   ],
   "metadata": {
    "collapsed": false
   },
   "id": "b720553faffa20d7"
  },
  {
   "cell_type": "code",
   "execution_count": null,
   "outputs": [],
   "source": [
    "xgb_predictions_test = model_xgb.predict(X_test)\n",
    "\n",
    "# Рассчет метрик\n",
    "mse = mean_squared_error(y_test, xgb_predictions_test)\n",
    "rmse = np.sqrt(mse)\n",
    "r2 = r2_score(y_test, xgb_predictions_test)\n",
    "\n",
    "print('RMSE (Root Mean Squared Error):', rmse)\n",
    "print('r2 (Root Mean Squared Error):', r2)\n",
    "\n",
    "rf_predictions_test = model_rf.predict(X_test)\n",
    "\n",
    "# Calculate metrics\n",
    "mse = mean_squared_error(y_test, rf_predictions_test)\n",
    "rmse = np.sqrt(mse)\n",
    "r2 = r2_score(y_test, rf_predictions_test)\n",
    "\n",
    "print('RMSE (Root Mean Squared Error):', rmse)\n",
    "print('r2 (Root Mean Squared Error):', r2)"
   ],
   "metadata": {
    "collapsed": false
   },
   "id": "10e6ee8cb6100826"
  },
  {
   "cell_type": "code",
   "execution_count": null,
   "outputs": [],
   "source": [
    "xgb.plot_importance(model_xgb)\n",
    "plt.show()"
   ],
   "metadata": {
    "collapsed": false
   },
   "id": "9b520076692e62d6"
  }
 ],
 "metadata": {
  "kernelspec": {
   "display_name": "Python 3",
   "language": "python",
   "name": "python3"
  },
  "language_info": {
   "codemirror_mode": {
    "name": "ipython",
    "version": 2
   },
   "file_extension": ".py",
   "mimetype": "text/x-python",
   "name": "python",
   "nbconvert_exporter": "python",
   "pygments_lexer": "ipython2",
   "version": "2.7.6"
  }
 },
 "nbformat": 4,
 "nbformat_minor": 5
}
