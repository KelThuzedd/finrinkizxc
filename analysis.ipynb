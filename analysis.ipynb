{
 "cells": [
  {
   "cell_type": "code",
   "execution_count": 382,
   "id": "initial_id",
   "metadata": {
    "collapsed": true,
    "ExecuteTime": {
     "end_time": "2023-10-15T12:16:36.288387900Z",
     "start_time": "2023-10-15T12:16:36.145538300Z"
    }
   },
   "outputs": [
    {
     "data": {
      "text/plain": "            Дата     Цена    Откр.    Макс.     Мин.    Объём  Изм. %\n0     13.10.2023  7.244,0  7.143,0  7.250,0  7.136,0    1,68M   1,74%\n1     12.10.2023  7.120,0  6.862,5  7.154,0  6.848,0    2,72M   3,33%\n2     11.10.2023  6.890,5  6.864,5  7.099,5  6.835,5    3,47M   0,54%\n3     10.10.2023  6.853,5  6.874,0  6.880,0  6.822,5  552,20K  -0,15%\n4     09.10.2023  6.863,5  6.880,0  6.895,5  6.822,0    1,11M   0,98%\n...          ...      ...      ...      ...      ...      ...     ...\n2689  18.01.2013  2.017,0  2.016,0  2.022,0  2.012,4  655,19K   0,21%\n2690  17.01.2013  2.012,7  2.013,3  2.020,0  1.996,0  942,60K   0,25%\n2691  16.01.2013  2.007,6  2.006,5  2.011,0  1.990,5  708,56K   0,08%\n2692  15.01.2013  2.006,0  2.018,3  2.018,6  2.000,2  559,97K  -0,69%\n2693  14.01.2013  2.020,0  2.010,9  2.021,4  2.001,9    1,17M   0,69%\n\n[2694 rows x 7 columns]",
      "text/html": "<div>\n<style scoped>\n    .dataframe tbody tr th:only-of-type {\n        vertical-align: middle;\n    }\n\n    .dataframe tbody tr th {\n        vertical-align: top;\n    }\n\n    .dataframe thead th {\n        text-align: right;\n    }\n</style>\n<table border=\"1\" class=\"dataframe\">\n  <thead>\n    <tr style=\"text-align: right;\">\n      <th></th>\n      <th>Дата</th>\n      <th>Цена</th>\n      <th>Откр.</th>\n      <th>Макс.</th>\n      <th>Мин.</th>\n      <th>Объём</th>\n      <th>Изм. %</th>\n    </tr>\n  </thead>\n  <tbody>\n    <tr>\n      <th>0</th>\n      <td>13.10.2023</td>\n      <td>7.244,0</td>\n      <td>7.143,0</td>\n      <td>7.250,0</td>\n      <td>7.136,0</td>\n      <td>1,68M</td>\n      <td>1,74%</td>\n    </tr>\n    <tr>\n      <th>1</th>\n      <td>12.10.2023</td>\n      <td>7.120,0</td>\n      <td>6.862,5</td>\n      <td>7.154,0</td>\n      <td>6.848,0</td>\n      <td>2,72M</td>\n      <td>3,33%</td>\n    </tr>\n    <tr>\n      <th>2</th>\n      <td>11.10.2023</td>\n      <td>6.890,5</td>\n      <td>6.864,5</td>\n      <td>7.099,5</td>\n      <td>6.835,5</td>\n      <td>3,47M</td>\n      <td>0,54%</td>\n    </tr>\n    <tr>\n      <th>3</th>\n      <td>10.10.2023</td>\n      <td>6.853,5</td>\n      <td>6.874,0</td>\n      <td>6.880,0</td>\n      <td>6.822,5</td>\n      <td>552,20K</td>\n      <td>-0,15%</td>\n    </tr>\n    <tr>\n      <th>4</th>\n      <td>09.10.2023</td>\n      <td>6.863,5</td>\n      <td>6.880,0</td>\n      <td>6.895,5</td>\n      <td>6.822,0</td>\n      <td>1,11M</td>\n      <td>0,98%</td>\n    </tr>\n    <tr>\n      <th>...</th>\n      <td>...</td>\n      <td>...</td>\n      <td>...</td>\n      <td>...</td>\n      <td>...</td>\n      <td>...</td>\n      <td>...</td>\n    </tr>\n    <tr>\n      <th>2689</th>\n      <td>18.01.2013</td>\n      <td>2.017,0</td>\n      <td>2.016,0</td>\n      <td>2.022,0</td>\n      <td>2.012,4</td>\n      <td>655,19K</td>\n      <td>0,21%</td>\n    </tr>\n    <tr>\n      <th>2690</th>\n      <td>17.01.2013</td>\n      <td>2.012,7</td>\n      <td>2.013,3</td>\n      <td>2.020,0</td>\n      <td>1.996,0</td>\n      <td>942,60K</td>\n      <td>0,25%</td>\n    </tr>\n    <tr>\n      <th>2691</th>\n      <td>16.01.2013</td>\n      <td>2.007,6</td>\n      <td>2.006,5</td>\n      <td>2.011,0</td>\n      <td>1.990,5</td>\n      <td>708,56K</td>\n      <td>0,08%</td>\n    </tr>\n    <tr>\n      <th>2692</th>\n      <td>15.01.2013</td>\n      <td>2.006,0</td>\n      <td>2.018,3</td>\n      <td>2.018,6</td>\n      <td>2.000,2</td>\n      <td>559,97K</td>\n      <td>-0,69%</td>\n    </tr>\n    <tr>\n      <th>2693</th>\n      <td>14.01.2013</td>\n      <td>2.020,0</td>\n      <td>2.010,9</td>\n      <td>2.021,4</td>\n      <td>2.001,9</td>\n      <td>1,17M</td>\n      <td>0,69%</td>\n    </tr>\n  </tbody>\n</table>\n<p>2694 rows × 7 columns</p>\n</div>"
     },
     "execution_count": 382,
     "metadata": {},
     "output_type": "execute_result"
    }
   ],
   "source": [
    "import pandas as pd\n",
    "from tensorflow.keras.models import Sequential\n",
    "from tensorflow.keras.layers import LSTM, Dense\n",
    "from sklearn.metrics import mean_squared_error, r2_score\n",
    "import numpy as np\n",
    "import matplotlib.pyplot as plt\n",
    "from sklearn.preprocessing import MinMaxScaler\n",
    "# Загрузка данных\n",
    "data_lkoh = pd.read_csv('data/Прошлые данные - LKOH.csv')\n",
    "# data_ingr = pd.read_csv('data/Прошлые данные - INGR.csv')\n",
    "# data_lent = pd.read_csv('data/Прошлые данные - LENT.csv')\n",
    "# data_lsrg = pd.read_csv('data/Прошлые данные - LSRG.csv')\n",
    "# data_mvid = pd.read_csv('data/Прошлые данные - MVID.csv')\n",
    "# data_nvtk = pd.read_csv('data/Прошлые данные - NVTK.csv')\n",
    "# data_ozondr = pd.read_csv('data/Прошлые данные - OZONDR.csv')\n",
    "# data_pikk = pd.read_csv('data/Прошлые данные - PIKK.csv')\n",
    "# data_rosn = pd.read_csv('data/Прошлые данные - ROSN.csv')\n",
    "# data_fivedr = pd.read_csv('data/Прошлые данные - FIVEDR.csv')\n",
    "# data_smlt = pd.read_csv('data/Прошлые данные - SMLT.csv')\n",
    "# data_gazp = pd.read_csv('data/Прошлые данные - GAZP (3).csv')\n",
    "data_lkoh"
   ]
  },
  {
   "cell_type": "code",
   "execution_count": 383,
   "outputs": [
    {
     "name": "stderr",
     "output_type": "stream",
     "text": [
      "C:\\Users\\User\\AppData\\Local\\Temp\\ipykernel_18696\\4092150197.py:7: UserWarning: Parsing dates in %d.%m.%Y format when dayfirst=False (the default) was specified. Pass `dayfirst=True` or specify a format to silence this warning.\n",
      "  data_lkoh['Дата'] = pd.to_datetime(data_lkoh['Дата'])\n"
     ]
    }
   ],
   "source": [
    "# Убираем суффиксы \"K\" из столбца \"Объём\"\n",
    "data_lkoh['Объём'] = data_lkoh['Объём'].str.replace('M', '000000').str.replace('K', '000')\n",
    "\n",
    "data_lkoh['Изм. %'] = data_lkoh['Изм. %'].str.replace('%', '')\n",
    "\n",
    "# Преобразование типов данных с учетом разделителей тысяч и возможных десятичных запятых\n",
    "data_lkoh['Дата'] = pd.to_datetime(data_lkoh['Дата'])\n",
    "data_lkoh['Цена'] = pd.to_numeric(data_lkoh['Цена'].str.replace('.', '').str.replace(',', '.'))\n",
    "data_lkoh['Откр.'] = pd.to_numeric(data_lkoh['Откр.'].str.replace('.', '').str.replace(',', '.'))\n",
    "data_lkoh['Макс.'] = pd.to_numeric(data_lkoh['Макс.'].str.replace('.', '').str.replace(',', '.'))\n",
    "data_lkoh['Мин.'] = pd.to_numeric(data_lkoh['Мин.'].str.replace('.', '').str.replace(',', '.'))\n",
    "data_lkoh['Объём'] = pd.to_numeric(data_lkoh['Объём'].str.replace('.', '').str.replace(',', ''))\n",
    "data_lkoh['Изм. %'] = pd.to_numeric(data_lkoh['Изм. %'].str.replace(',', '.'))"
   ],
   "metadata": {
    "collapsed": false,
    "ExecuteTime": {
     "end_time": "2023-10-15T12:16:36.936799900Z",
     "start_time": "2023-10-15T12:16:36.884834900Z"
    }
   },
   "id": "6c6c6cbdca61f845"
  },
  {
   "cell_type": "code",
   "execution_count": 385,
   "outputs": [
    {
     "data": {
      "text/plain": "Дата      datetime64[ns]\nЦена             float64\nОткр.            float64\nМакс.            float64\nМин.             float64\nОбъём              int64\nИзм. %           float64\ndtype: object"
     },
     "execution_count": 385,
     "metadata": {},
     "output_type": "execute_result"
    }
   ],
   "source": [
    "data_lkoh.dtypes"
   ],
   "metadata": {
    "collapsed": false,
    "ExecuteTime": {
     "end_time": "2023-10-15T12:16:51.837360600Z",
     "start_time": "2023-10-15T12:16:51.735285400Z"
    }
   },
   "id": "94730d51f8bdd4e4"
  },
  {
   "cell_type": "code",
   "execution_count": 388,
   "outputs": [
    {
     "data": {
      "text/plain": "           Дата    Цена   Откр.   Макс.    Мин.      Объём  Изм. %  dayofweek  \\\n0    2023-10-13  7244.0  7143.0  7250.0  7136.0  168000000    1.74          4   \n1    2023-10-12  7120.0  6862.5  7154.0  6848.0  272000000    3.33          3   \n2    2023-10-11  6890.5  6864.5  7099.5  6835.5  347000000    0.54          2   \n3    2023-10-10  6853.5  6874.0  6880.0  6822.5   55220000   -0.15          1   \n4    2023-10-09  6863.5  6880.0  6895.5  6822.0  111000000    0.98          0   \n...         ...     ...     ...     ...     ...        ...     ...        ...   \n2689 2013-01-18  2017.0  2016.0  2022.0  2012.4   65519000    0.21          4   \n2690 2013-01-17  2012.7  2013.3  2020.0  1996.0   94260000    0.25          3   \n2691 2013-01-16  2007.6  2006.5  2011.0  1990.5   70856000    0.08          2   \n2692 2013-01-15  2006.0  2018.3  2018.6  2000.2   55997000   -0.69          1   \n2693 2013-01-14  2020.0  2010.9  2021.4  2001.9  117000000    0.69          0   \n\n      quarter  month  year  dayofyear  dayofmonth  weekofyear  \n0           4     10  2023        286          13          41  \n1           4     10  2023        285          12          41  \n2           4     10  2023        284          11          41  \n3           4     10  2023        283          10          41  \n4           4     10  2023        282           9          41  \n...       ...    ...   ...        ...         ...         ...  \n2689        1      1  2013         18          18           3  \n2690        1      1  2013         17          17           3  \n2691        1      1  2013         16          16           3  \n2692        1      1  2013         15          15           3  \n2693        1      1  2013         14          14           3  \n\n[2694 rows x 14 columns]",
      "text/html": "<div>\n<style scoped>\n    .dataframe tbody tr th:only-of-type {\n        vertical-align: middle;\n    }\n\n    .dataframe tbody tr th {\n        vertical-align: top;\n    }\n\n    .dataframe thead th {\n        text-align: right;\n    }\n</style>\n<table border=\"1\" class=\"dataframe\">\n  <thead>\n    <tr style=\"text-align: right;\">\n      <th></th>\n      <th>Дата</th>\n      <th>Цена</th>\n      <th>Откр.</th>\n      <th>Макс.</th>\n      <th>Мин.</th>\n      <th>Объём</th>\n      <th>Изм. %</th>\n      <th>dayofweek</th>\n      <th>quarter</th>\n      <th>month</th>\n      <th>year</th>\n      <th>dayofyear</th>\n      <th>dayofmonth</th>\n      <th>weekofyear</th>\n    </tr>\n  </thead>\n  <tbody>\n    <tr>\n      <th>0</th>\n      <td>2023-10-13</td>\n      <td>7244.0</td>\n      <td>7143.0</td>\n      <td>7250.0</td>\n      <td>7136.0</td>\n      <td>168000000</td>\n      <td>1.74</td>\n      <td>4</td>\n      <td>4</td>\n      <td>10</td>\n      <td>2023</td>\n      <td>286</td>\n      <td>13</td>\n      <td>41</td>\n    </tr>\n    <tr>\n      <th>1</th>\n      <td>2023-10-12</td>\n      <td>7120.0</td>\n      <td>6862.5</td>\n      <td>7154.0</td>\n      <td>6848.0</td>\n      <td>272000000</td>\n      <td>3.33</td>\n      <td>3</td>\n      <td>4</td>\n      <td>10</td>\n      <td>2023</td>\n      <td>285</td>\n      <td>12</td>\n      <td>41</td>\n    </tr>\n    <tr>\n      <th>2</th>\n      <td>2023-10-11</td>\n      <td>6890.5</td>\n      <td>6864.5</td>\n      <td>7099.5</td>\n      <td>6835.5</td>\n      <td>347000000</td>\n      <td>0.54</td>\n      <td>2</td>\n      <td>4</td>\n      <td>10</td>\n      <td>2023</td>\n      <td>284</td>\n      <td>11</td>\n      <td>41</td>\n    </tr>\n    <tr>\n      <th>3</th>\n      <td>2023-10-10</td>\n      <td>6853.5</td>\n      <td>6874.0</td>\n      <td>6880.0</td>\n      <td>6822.5</td>\n      <td>55220000</td>\n      <td>-0.15</td>\n      <td>1</td>\n      <td>4</td>\n      <td>10</td>\n      <td>2023</td>\n      <td>283</td>\n      <td>10</td>\n      <td>41</td>\n    </tr>\n    <tr>\n      <th>4</th>\n      <td>2023-10-09</td>\n      <td>6863.5</td>\n      <td>6880.0</td>\n      <td>6895.5</td>\n      <td>6822.0</td>\n      <td>111000000</td>\n      <td>0.98</td>\n      <td>0</td>\n      <td>4</td>\n      <td>10</td>\n      <td>2023</td>\n      <td>282</td>\n      <td>9</td>\n      <td>41</td>\n    </tr>\n    <tr>\n      <th>...</th>\n      <td>...</td>\n      <td>...</td>\n      <td>...</td>\n      <td>...</td>\n      <td>...</td>\n      <td>...</td>\n      <td>...</td>\n      <td>...</td>\n      <td>...</td>\n      <td>...</td>\n      <td>...</td>\n      <td>...</td>\n      <td>...</td>\n      <td>...</td>\n    </tr>\n    <tr>\n      <th>2689</th>\n      <td>2013-01-18</td>\n      <td>2017.0</td>\n      <td>2016.0</td>\n      <td>2022.0</td>\n      <td>2012.4</td>\n      <td>65519000</td>\n      <td>0.21</td>\n      <td>4</td>\n      <td>1</td>\n      <td>1</td>\n      <td>2013</td>\n      <td>18</td>\n      <td>18</td>\n      <td>3</td>\n    </tr>\n    <tr>\n      <th>2690</th>\n      <td>2013-01-17</td>\n      <td>2012.7</td>\n      <td>2013.3</td>\n      <td>2020.0</td>\n      <td>1996.0</td>\n      <td>94260000</td>\n      <td>0.25</td>\n      <td>3</td>\n      <td>1</td>\n      <td>1</td>\n      <td>2013</td>\n      <td>17</td>\n      <td>17</td>\n      <td>3</td>\n    </tr>\n    <tr>\n      <th>2691</th>\n      <td>2013-01-16</td>\n      <td>2007.6</td>\n      <td>2006.5</td>\n      <td>2011.0</td>\n      <td>1990.5</td>\n      <td>70856000</td>\n      <td>0.08</td>\n      <td>2</td>\n      <td>1</td>\n      <td>1</td>\n      <td>2013</td>\n      <td>16</td>\n      <td>16</td>\n      <td>3</td>\n    </tr>\n    <tr>\n      <th>2692</th>\n      <td>2013-01-15</td>\n      <td>2006.0</td>\n      <td>2018.3</td>\n      <td>2018.6</td>\n      <td>2000.2</td>\n      <td>55997000</td>\n      <td>-0.69</td>\n      <td>1</td>\n      <td>1</td>\n      <td>1</td>\n      <td>2013</td>\n      <td>15</td>\n      <td>15</td>\n      <td>3</td>\n    </tr>\n    <tr>\n      <th>2693</th>\n      <td>2013-01-14</td>\n      <td>2020.0</td>\n      <td>2010.9</td>\n      <td>2021.4</td>\n      <td>2001.9</td>\n      <td>117000000</td>\n      <td>0.69</td>\n      <td>0</td>\n      <td>1</td>\n      <td>1</td>\n      <td>2013</td>\n      <td>14</td>\n      <td>14</td>\n      <td>3</td>\n    </tr>\n  </tbody>\n</table>\n<p>2694 rows × 14 columns</p>\n</div>"
     },
     "execution_count": 388,
     "metadata": {},
     "output_type": "execute_result"
    }
   ],
   "source": [
    "import pandas as pd\n",
    "\n",
    "df = data_lkoh\n",
    "df['dayofweek'] = df['Дата'].dt.dayofweek\n",
    "df['quarter'] = df['Дата'].dt.quarter\n",
    "df['month'] = df['Дата'].dt.month\n",
    "df['year'] = df['Дата'].dt.year\n",
    "df['dayofyear'] = df['Дата'].dt.dayofyear\n",
    "df['dayofmonth'] = df['Дата'].dt.day\n",
    "df['weekofyear'] = df['Дата'].dt.isocalendar().week\n",
    "\n",
    "\n",
    "data_lkoh"
   ],
   "metadata": {
    "collapsed": false,
    "ExecuteTime": {
     "end_time": "2023-10-15T12:17:32.958267800Z",
     "start_time": "2023-10-15T12:17:32.879562Z"
    }
   },
   "id": "3ed88f953f21aa2"
  },
  {
   "cell_type": "code",
   "execution_count": 369,
   "outputs": [
    {
     "data": {
      "text/plain": "<Figure size 1200x600 with 1 Axes>",
      "image/png": "[encoded data removed]"
     },
     "metadata": {},
     "output_type": "display_data"
    }
   ],
   "source": [
    "import matplotlib.pyplot as plt\n",
    "\n",
    "# Построение графика цен закрытия для акции \"Лукойл\" (LKOH)\n",
    "plt.figure(figsize=(12, 6))\n",
    "plt.plot(data_lkoh['Дата'], data_lkoh['Цена'], label='Цены закрытия (LKOH)')\n",
    "plt.title('Цены закрытия для акции \"Лукойл\" (LKOH)')\n",
    "plt.xlabel('Дата')\n",
    "plt.ylabel('Цена закрытия')\n",
    "plt.legend()\n",
    "plt.grid(True)\n",
    "plt.show()\n"
   ],
   "metadata": {
    "collapsed": false,
    "ExecuteTime": {
     "end_time": "2023-10-15T12:14:38.879237900Z",
     "start_time": "2023-10-15T12:14:38.472920400Z"
    }
   },
   "id": "7b9642de4c80f492"
  },
  {
   "cell_type": "code",
   "execution_count": 370,
   "outputs": [],
   "source": [
    "# Функция для расчета скользящих средних\n",
    "def calculate_moving_averages(data, window):\n",
    "    data['SMA_' + str(window)] = data['Цена'].rolling(window=window).mean()  # Простое скользящее среднее\n",
    "    data['EMA_' + str(window)] = data['Цена'].ewm(span=window, adjust=False).mean()  # Экспоненциальное скользящее среднее\n",
    "    return data\n",
    "\n",
    "# Функция для расчета RSI\n",
    "def calculate_rsi(data, window=14):\n",
    "    delta = data['Цена'].diff(1)\n",
    "    gain = (delta.where(delta > 0, 0)).fillna(0)\n",
    "    loss = (-delta.where(delta < 0, 0)).fillna(0)\n",
    "    avg_gain = gain.rolling(window=window).mean()\n",
    "    avg_loss = loss.rolling(window=window).mean()\n",
    "    rs = avg_gain / avg_loss\n",
    "    rsi = 100 - (100 / (1 + rs))\n",
    "    data['RSI'] = rsi\n",
    "    return data\n",
    "\n",
    "# Функция для расчета MACD\n",
    "def calculate_macd(data, short_window=12, long_window=26, signal_window=9):\n",
    "    short_ema = data['Цена'].ewm(span=short_window, adjust=False).mean()\n",
    "    long_ema = data['Цена'].ewm(span=long_window, adjust=False).mean()\n",
    "    data['MACD'] = short_ema - long_ema\n",
    "    data['Signal_Line'] = data['MACD'].ewm(span=signal_window, adjust=False).mean()\n",
    "    return data\n",
    "\n",
    "# Расчет признаков\n",
    "data_lkoh = calculate_moving_averages(data_lkoh, window=20)  # Пример: 20-дневные скользящие средние\n",
    "data_lkoh = calculate_rsi(data_lkoh)\n",
    "data_lkoh = calculate_macd(data_lkoh)"
   ],
   "metadata": {
    "collapsed": false,
    "ExecuteTime": {
     "end_time": "2023-10-15T12:14:38.899479700Z",
     "start_time": "2023-10-15T12:14:38.885229900Z"
    }
   },
   "id": "6c32323206f86bb7"
  },
  {
   "cell_type": "code",
   "execution_count": 371,
   "outputs": [
    {
     "data": {
      "text/plain": "Дата            0\nЦена            0\nОткр.           0\nМакс.           0\nМин.            0\nОбъём           0\nИзм. %          0\nSMA_20         19\nEMA_20          0\nRSI            13\nMACD            0\nSignal_Line     0\ndtype: int64"
     },
     "execution_count": 371,
     "metadata": {},
     "output_type": "execute_result"
    }
   ],
   "source": [
    "import pandas as pd\n",
    "\n",
    "# Interpolate missing values for 'RSI' and 'SMA_20' columns\n",
    "data_lkoh['RSI'].interpolate(inplace=True)\n",
    "data_lkoh['SMA_20'].interpolate(inplace=True)\n",
    "\n",
    "# Check for remaining missing values\n",
    "missing_values = data_lkoh.isnull().sum()\n",
    "missing_values"
   ],
   "metadata": {
    "collapsed": false,
    "ExecuteTime": {
     "end_time": "2023-10-15T12:14:39.275387Z",
     "start_time": "2023-10-15T12:14:39.231813800Z"
    }
   },
   "id": "63e2205e11c6f2e8"
  },
  {
   "cell_type": "code",
   "execution_count": 392,
   "outputs": [],
   "source": [
    "# Выберите начальную дату (например, первая дата в вашем наборе данных)\n",
    "start_date = data_lkoh['Дата'].min()\n",
    "\n",
    "# Рассчитайте количество дней от начальной даты для каждой строки\n",
    "data_lkoh['timestamp'] = (data_lkoh['Дата'] - start_date).dt.days"
   ],
   "metadata": {
    "collapsed": false,
    "ExecuteTime": {
     "end_time": "2023-10-15T12:19:01.802428100Z",
     "start_time": "2023-10-15T12:19:01.656441700Z"
    }
   },
   "id": "7a818596a73b4e0c"
  },
  {
   "cell_type": "code",
   "execution_count": 321,
   "outputs": [],
   "source": [
    "train_size = int(len(data_lkoh) * 0.2)\n",
    "data_lkoh = data_lkoh.dropna()\n"
   ],
   "metadata": {
    "collapsed": false,
    "ExecuteTime": {
     "end_time": "2023-10-15T11:51:37.067333100Z",
     "start_time": "2023-10-15T11:51:36.778289500Z"
    }
   },
   "id": "41cfd6218ebdf690"
  },
  {
   "cell_type": "code",
   "execution_count": 420,
   "outputs": [
    {
     "data": {
      "text/plain": "Дата          datetime64[ns]\nЦена                 float64\nОткр.                float64\nМакс.                float64\nМин.                 float64\nОбъём                  int64\nИзм. %               float64\ndayofweek              int32\nquarter                int32\nmonth                  int32\nyear                   int32\ndayofyear              int32\ndayofmonth             int32\nweekofyear            UInt32\ntimestamp              int64\ndtype: object"
     },
     "execution_count": 420,
     "metadata": {},
     "output_type": "execute_result"
    }
   ],
   "source": [
    "data_lkoh.dtypes"
   ],
   "metadata": {
    "collapsed": false,
    "ExecuteTime": {
     "end_time": "2023-10-15T12:34:27.143159200Z",
     "start_time": "2023-10-15T12:34:27.114045300Z"
    }
   },
   "id": "f2432d33eb808961"
  },
  {
   "cell_type": "code",
   "execution_count": 0,
   "outputs": [],
   "source": [
    "from tensorflow.python.keras.layers import Dropout\n",
    "from sklearn.preprocessing import StandardScaler\n",
    "\n",
    "\n",
    "from sklearn.preprocessing import MinMaxScaler\n",
    "# Scale the input data\n",
    "scaler = MinMaxScaler(feature_range=(0,1))\n",
    "data = data_lkoh[['Цена']]\n",
    "data['Цена'] = scaler.fit_transform(data['Цена'].values.reshape(-1, 1))\n",
    "\n",
    "\n",
    "# Create sliding window of data points\n",
    "def create_dataset(dataset, time_steps=1):\n",
    "    dataX, dataY = [], []\n",
    "    for i in range(len(dataset)-time_steps-1):\n",
    "        a = dataset[i:(i+time_steps), :]\n",
    "        dataX.append(a)\n",
    "        dataY.append(dataset[i + time_steps, -1])  # Assuming 'Цена' is the last column\n",
    "    return np.array(dataX), np.array(dataY)\n",
    "\n",
    "time_steps = 10\n",
    "X, y = create_dataset(data.values, time_steps)\n",
    "\n",
    "# Split into train and test sets\n",
    "X_train_LTSM, X_test_LTSM = X[:train_size], X[train_size:]\n",
    "y_train_LTSM, y_test_LTSM = y[:train_size], y[train_size:]\n",
    "\n",
    "# Create and train the LSTM model\n",
    "\n",
    "model = Sequential()\n",
    "# 1st lstm layer\n",
    "model.add(LSTM(units=100,return_sequences=True,input_shape=(X_train_LTSM.shape[1], 1)))\n",
    "model.add(Dropout(0.2))\n",
    "# 2st lstm layer\n",
    "model.add(LSTM(units=100,return_sequences=True))\n",
    "model.add(Dropout(0.2))\n",
    "# 3st lstm layer\n",
    "model.add(LSTM(units=100,return_sequences=True))\n",
    "model.add(Dropout(0.2))\n",
    "# 4st lstm layer \n",
    "model.add(LSTM(units=100,return_sequences= False))\n",
    "model.add(Dropout(0.2))\n",
    "model.add(Dense(units=1))\n",
    "model.compile(optimizer='adam',loss='mae')\n",
    "# train the model\n",
    "history = model.fit(X_train_LTSM, y_train_LTSM, epochs=10, batch_size=64, validation_data=(X_test_LTSM, y_test_LTSM))\n",
    "\n",
    "\n",
    "\n",
    "\n",
    "# Train the model\n",
    "\n",
    "# Plot the validation loss\n",
    "plt.plot(history.history['val_loss'][5:])\n",
    "plt.title('Validation Loss')\n",
    "plt.xlabel('Epochs')\n",
    "plt.ylabel('Loss')\n",
    "plt.show()"
   ],
   "metadata": {
    "collapsed": false
   },
   "id": "f8b957c5034cbc22"
  },
  {
   "cell_type": "code",
   "execution_count": 491,
   "outputs": [
    {
     "data": {
      "text/plain": "882"
     },
     "execution_count": 491,
     "metadata": {},
     "output_type": "execute_result"
    }
   ],
   "source": [
    "len(X_test_LTSM)"
   ],
   "metadata": {
    "collapsed": false,
    "ExecuteTime": {
     "end_time": "2023-10-15T13:59:45.251824100Z",
     "start_time": "2023-10-15T13:59:45.207381700Z"
    }
   },
   "id": "57737df1fe4b96d9"
  },
  {
   "cell_type": "code",
   "execution_count": null,
   "outputs": [],
   "source": [
    "\n",
    "# Make predictions using the trained model\n",
    "predictions_LTSM_test = model.predict(X_test_LTSM)\n",
    "predictions_LTSM_train = model.predict(X_train_LTSM)\n"
   ],
   "metadata": {
    "collapsed": false
   },
   "id": "3aa681febeaa654f"
  },
  {
   "cell_type": "code",
   "execution_count": 478,
   "outputs": [
    {
     "name": "stdout",
     "output_type": "stream",
     "text": [
      "RMSE (Root Mean Squared Error): 0.015688179403473158\n",
      "R2 (Coefficient of Determination): 0.9218881240582985\n",
      "MAPE (Mean Absolute Percentage Error): inf\n"
     ]
    },
    {
     "name": "stderr",
     "output_type": "stream",
     "text": [
      "C:\\Users\\User\\AppData\\Local\\Temp\\ipykernel_18696\\1812559520.py:12: RuntimeWarning: divide by zero encountered in divide\n",
      "  return np.mean(np.abs((y_true - y_pred) / y_true)) * 100\n"
     ]
    }
   ],
   "source": [
    "\n",
    "\n",
    "# Inverse transform the predictions\n",
    "# predictions_LTSM_test = scaler.inverse_transform(predictions_LTSM_test)\n",
    "# predictions_LTSM_train = scaler.inverse_transform(predictions_LTSM_train)\n",
    "# Calculate metrics\n",
    "mse = mean_squared_error(y_test_LTSM, predictions_LTSM_test)\n",
    "rmse = np.sqrt(mse)\n",
    "r2 = r2_score(y_test_LTSM, predictions_LTSM_test)\n",
    "\n",
    "print('RMSE (Root Mean Squared Error):', rmse)\n",
    "print('R2 (Coefficient of Determination):', r2)\n",
    "def calculate_mape(y_true, y_pred):\n",
    "    return np.mean(np.abs((y_true - y_pred) / y_true)) * 100\n",
    "\n",
    "# Вычисляем MAPE\n",
    "mape = calculate_mape(y_test_LTSM, predictions_LTSM_test)\n",
    "print('MAPE (Mean Absolute Percentage Error):', mape)\n"
   ],
   "metadata": {
    "collapsed": false,
    "ExecuteTime": {
     "start_time": "2023-10-15T13:56:39.921763300Z"
    }
   },
   "id": "29306d7229c2e1f1"
  },
  {
   "cell_type": "code",
   "execution_count": 507,
   "outputs": [
    {
     "name": "stdout",
     "output_type": "stream",
     "text": [
      "2155\n",
      "2156\n",
      "538\n",
      "RMSE (Root Mean Squared Error): 1556.125811215221\n",
      "r2 (Root Mean Squared Error): -0.7705463179536531\n"
     ]
    }
   ],
   "source": [
    "import xgboost as xgb\n",
    "from sklearn.metrics import mean_squared_error, r2_score\n",
    "import numpy as np\n",
    "# Подготовка данных для XGBoost\n",
    "X = data_lkoh[[ 'dayofweek', 'quarter', 'month', 'year',\n",
    "         'dayofyear', 'dayofmonth', 'weekofyear','timestamp']]\n",
    "y = data_lkoh['Цена']  # Целевая переменная\n",
    "print(train_size)\n",
    "train_size = int(len(data_lkoh) * 0.2)\n",
    "\n",
    "# Разделение данных на обучающую и тестовую выборки\n",
    "X_test,X_train = X[:train_size], X[train_size:]\n",
    "y_test,y_train = y[:train_size], y[train_size:]\n",
    "print(len(X_train))\n",
    "print(len(X_test))\n",
    "\n",
    "# Убедитесь, что X_test и X_test_lstm имеют одинаковое количество строк\n",
    "X_test = X_test[:len(X_test_LTSM)]\n",
    "\n",
    "# Убедитесь, что y_test и y_test_lstm имеют одинаковое количество строк\n",
    "y_test = y_test[:len(y_test_LTSM)]\n",
    "\n",
    "# Убедитесь, что X_test и X_test_lstm имеют одинаковое количество строк\n",
    "X_train = X_train[:len(X_train_LTSM)]\n",
    "\n",
    "# Убедитесь, что y_test и y_test_lstm имеют одинаковое количество строк\n",
    "y_train = y_train[:len(y_train_LTSM)]\n",
    "\n",
    "# Создание и обучение модели XGBoost\n",
    "model_xgb = xgb.XGBRegressor(max_depth=30, n_estimators=500)  # Подберите параметры по необходимости\n",
    "model_xgb.fit(X_train, y_train)\n",
    "\n",
    "# Прогнозирование\n",
    "xgb_predictions_test = model_xgb.predict(X_test)\n",
    "xgb_predictions_train = model_xgb.predict(X_train)\n",
    "\n",
    "# Рассчет метрик\n",
    "mse = mean_squared_error(y_test, xgb_predictions_test)\n",
    "rmse = np.sqrt(mse)\n",
    "r2 = r2_score(y_test, xgb_predictions_test)\n",
    "\n",
    "print('RMSE (Root Mean Squared Error):', rmse)\n",
    "print('r2 (Root Mean Squared Error):', r2)"
   ],
   "metadata": {
    "collapsed": false,
    "ExecuteTime": {
     "end_time": "2023-10-15T14:04:08.232309800Z",
     "start_time": "2023-10-15T14:04:04.711732800Z"
    }
   },
   "id": "568f046a6c4baba4"
  },
  {
   "cell_type": "code",
   "execution_count": 508,
   "outputs": [
    {
     "data": {
      "text/plain": "      dayofweek  quarter  month  year  dayofyear  dayofmonth  weekofyear  \\\n538           2        3      8  2021        216           4          31   \n539           1        3      8  2021        215           3          31   \n540           0        3      8  2021        214           2          31   \n541           4        3      7  2021        211          30          30   \n542           3        3      7  2021        210          29          30   \n...         ...      ...    ...   ...        ...         ...         ...   \n2334          4        2      6  2014        171          20          25   \n2335          3        2      6  2014        170          19          25   \n2336          2        2      6  2014        169          18          25   \n2337          1        2      6  2014        168          17          25   \n2338          0        2      6  2014        167          16          25   \n\n      timestamp  \n538        3124  \n539        3123  \n540        3122  \n541        3119  \n542        3118  \n...         ...  \n2334        522  \n2335        521  \n2336        520  \n2337        519  \n2338        518  \n\n[1801 rows x 8 columns]",
      "text/html": "<div>\n<style scoped>\n    .dataframe tbody tr th:only-of-type {\n        vertical-align: middle;\n    }\n\n    .dataframe tbody tr th {\n        vertical-align: top;\n    }\n\n    .dataframe thead th {\n        text-align: right;\n    }\n</style>\n<table border=\"1\" class=\"dataframe\">\n  <thead>\n    <tr style=\"text-align: right;\">\n      <th></th>\n      <th>dayofweek</th>\n      <th>quarter</th>\n      <th>month</th>\n      <th>year</th>\n      <th>dayofyear</th>\n      <th>dayofmonth</th>\n      <th>weekofyear</th>\n      <th>timestamp</th>\n    </tr>\n  </thead>\n  <tbody>\n    <tr>\n      <th>538</th>\n      <td>2</td>\n      <td>3</td>\n      <td>8</td>\n      <td>2021</td>\n      <td>216</td>\n      <td>4</td>\n      <td>31</td>\n      <td>3124</td>\n    </tr>\n    <tr>\n      <th>539</th>\n      <td>1</td>\n      <td>3</td>\n      <td>8</td>\n      <td>2021</td>\n      <td>215</td>\n      <td>3</td>\n      <td>31</td>\n      <td>3123</td>\n    </tr>\n    <tr>\n      <th>540</th>\n      <td>0</td>\n      <td>3</td>\n      <td>8</td>\n      <td>2021</td>\n      <td>214</td>\n      <td>2</td>\n      <td>31</td>\n      <td>3122</td>\n    </tr>\n    <tr>\n      <th>541</th>\n      <td>4</td>\n      <td>3</td>\n      <td>7</td>\n      <td>2021</td>\n      <td>211</td>\n      <td>30</td>\n      <td>30</td>\n      <td>3119</td>\n    </tr>\n    <tr>\n      <th>542</th>\n      <td>3</td>\n      <td>3</td>\n      <td>7</td>\n      <td>2021</td>\n      <td>210</td>\n      <td>29</td>\n      <td>30</td>\n      <td>3118</td>\n    </tr>\n    <tr>\n      <th>...</th>\n      <td>...</td>\n      <td>...</td>\n      <td>...</td>\n      <td>...</td>\n      <td>...</td>\n      <td>...</td>\n      <td>...</td>\n      <td>...</td>\n    </tr>\n    <tr>\n      <th>2334</th>\n      <td>4</td>\n      <td>2</td>\n      <td>6</td>\n      <td>2014</td>\n      <td>171</td>\n      <td>20</td>\n      <td>25</td>\n      <td>522</td>\n    </tr>\n    <tr>\n      <th>2335</th>\n      <td>3</td>\n      <td>2</td>\n      <td>6</td>\n      <td>2014</td>\n      <td>170</td>\n      <td>19</td>\n      <td>25</td>\n      <td>521</td>\n    </tr>\n    <tr>\n      <th>2336</th>\n      <td>2</td>\n      <td>2</td>\n      <td>6</td>\n      <td>2014</td>\n      <td>169</td>\n      <td>18</td>\n      <td>25</td>\n      <td>520</td>\n    </tr>\n    <tr>\n      <th>2337</th>\n      <td>1</td>\n      <td>2</td>\n      <td>6</td>\n      <td>2014</td>\n      <td>168</td>\n      <td>17</td>\n      <td>25</td>\n      <td>519</td>\n    </tr>\n    <tr>\n      <th>2338</th>\n      <td>0</td>\n      <td>2</td>\n      <td>6</td>\n      <td>2014</td>\n      <td>167</td>\n      <td>16</td>\n      <td>25</td>\n      <td>518</td>\n    </tr>\n  </tbody>\n</table>\n<p>1801 rows × 8 columns</p>\n</div>"
     },
     "execution_count": 508,
     "metadata": {},
     "output_type": "execute_result"
    }
   ],
   "source": [
    "X_train"
   ],
   "metadata": {
    "collapsed": false,
    "ExecuteTime": {
     "end_time": "2023-10-15T14:04:09.393049400Z",
     "start_time": "2023-10-15T14:04:09.365034500Z"
    }
   },
   "id": "e3c5f37cda05838d"
  },
  {
   "cell_type": "code",
   "execution_count": 509,
   "outputs": [
    {
     "data": {
      "text/plain": "<Figure size 640x480 with 1 Axes>",
      "image/png": "[encoded data removed]"
     },
     "metadata": {},
     "output_type": "display_data"
    }
   ],
   "source": [
    "# Plot feature importance\n",
    "xgb.plot_importance(model_xgb)\n",
    "plt.show()"
   ],
   "metadata": {
    "collapsed": false,
    "ExecuteTime": {
     "end_time": "2023-10-15T14:04:13.562422Z",
     "start_time": "2023-10-15T14:04:13.332814900Z"
    }
   },
   "id": "3d457761f7027042"
  },
  {
   "cell_type": "code",
   "execution_count": 510,
   "outputs": [
    {
     "name": "stdout",
     "output_type": "stream",
     "text": [
      "RMSE (Root Mean Squared Error): 1583.203812489114\n",
      "r2 (Root Mean Squared Error): -0.8327006498214478\n"
     ]
    }
   ],
   "source": [
    "from sklearn.ensemble import RandomForestRegressor\n",
    "from sklearn.metrics import mean_squared_error, r2_score\n",
    "import numpy as np\n",
    "\n",
    "# Prepare data for Random Forest\n",
    "X = data_lkoh[[ 'dayofweek', 'quarter', 'month', 'year',\n",
    "                'dayofyear', 'dayofmonth', 'weekofyear','timestamp']]\n",
    "y = data_lkoh['Цена']  # Target variable\n",
    "\n",
    "# Split data into training and test sets\n",
    "X_train, X_test = X[train_size:], X[:train_size]\n",
    "y_train, y_test = y[train_size:], y[:train_size]\n",
    "\n",
    "# Make sure X_test and X_test_lstm have the same number of rows\n",
    "X_test = X_test[:len(X_test_LTSM)]\n",
    "\n",
    "# Make sure y_test and y_test_lstm have the same number of rows\n",
    "y_test = y_test[:len(y_test_LTSM)]\n",
    "\n",
    "# Make sure X_train and X_train_lstm have the same number of rows\n",
    "X_train = X_train[:len(X_train_LTSM)]\n",
    "\n",
    "# Make sure y_train and y_train_lstm have the same number of rows\n",
    "y_train = y_train[:len(y_train_LTSM)]\n",
    "\n",
    "# Create and train the Random Forest model\n",
    "model_rf = RandomForestRegressor(max_depth=30, n_estimators=200)  # Adjust the parameters as needed\n",
    "model_rf.fit(X_train, y_train)\n",
    "\n",
    "# Predict\n",
    "rf_predictions_test = model_rf.predict(X_test)\n",
    "rf_predictions_train = model_rf.predict(X_train)\n",
    "\n",
    "# Calculate metrics\n",
    "mse = mean_squared_error(y_test, rf_predictions_test)\n",
    "rmse = np.sqrt(mse)\n",
    "r2 = r2_score(y_test, rf_predictions_test)\n",
    "\n",
    "print('RMSE (Root Mean Squared Error):', rmse)\n",
    "print('r2 (Root Mean Squared Error):', r2)"
   ],
   "metadata": {
    "collapsed": false,
    "ExecuteTime": {
     "end_time": "2023-10-15T14:04:16.792843400Z",
     "start_time": "2023-10-15T14:04:14.418365900Z"
    }
   },
   "id": "b4dace27bd61c01e"
  },
  {
   "cell_type": "code",
   "execution_count": 514,
   "outputs": [
    {
     "name": "stdout",
     "output_type": "stream",
     "text": [
      "(1801,)\n",
      "(1801, 1)\n",
      "(1801,)\n",
      "(538,)\n",
      "(882, 1)\n",
      "(538,)\n"
     ]
    }
   ],
   "source": [
    "print(xgb_predictions_train.shape)\n",
    "print(predictions_LTSM_train.shape)\n",
    "print(rf_predictions_train.shape)\n",
    "\n",
    "print(xgb_predictions_test.shape)\n",
    "print(predictions_LTSM_test.shape)\n",
    "print(rf_predictions_test.shape)\n"
   ],
   "metadata": {
    "collapsed": false,
    "ExecuteTime": {
     "end_time": "2023-10-15T14:05:49.301243900Z",
     "start_time": "2023-10-15T14:05:49.257457500Z"
    }
   },
   "id": "1ff115daa6b4e047"
  },
  {
   "cell_type": "code",
   "execution_count": 513,
   "outputs": [
    {
     "ename": "ValueError",
     "evalue": "all the input array dimensions except for the concatenation axis must match exactly, but along dimension 0, the array at index 0 has size 538 and the array at index 1 has size 882",
     "output_type": "error",
     "traceback": [
      "\u001B[1;31m---------------------------------------------------------------------------\u001B[0m",
      "\u001B[1;31mValueError\u001B[0m                                Traceback (most recent call last)",
      "Cell \u001B[1;32mIn[513], line 3\u001B[0m\n\u001B[0;32m      1\u001B[0m ensemble_features_train \u001B[38;5;241m=\u001B[39m np\u001B[38;5;241m.\u001B[39mcolumn_stack((xgb_predictions_train, predictions_LTSM_train,rf_predictions_train))\n\u001B[1;32m----> 3\u001B[0m ensemble_features_test \u001B[38;5;241m=\u001B[39m np\u001B[38;5;241m.\u001B[39mcolumn_stack((xgb_predictions_test, np\u001B[38;5;241m.\u001B[39msqueeze(predictions_LTSM_test), rf_predictions_test))\n\u001B[0;32m      6\u001B[0m xgboost_ensemble_model \u001B[38;5;241m=\u001B[39m xgb\u001B[38;5;241m.\u001B[39mXGBRegressor(max_depth\u001B[38;5;241m=\u001B[39m\u001B[38;5;241m40\u001B[39m, n_estimators\u001B[38;5;241m=\u001B[39m\u001B[38;5;241m500\u001B[39m)  \u001B[38;5;66;03m# Подберите параметры по необходимости\u001B[39;00m\n\u001B[0;32m      7\u001B[0m xgboost_ensemble_model\u001B[38;5;241m.\u001B[39mfit(ensemble_features_train, y_train)\n",
      "File \u001B[1;32m~\\anaconda3\\envs\\anal_site\\Lib\\site-packages\\numpy\\lib\\shape_base.py:652\u001B[0m, in \u001B[0;36mcolumn_stack\u001B[1;34m(tup)\u001B[0m\n\u001B[0;32m    650\u001B[0m         arr \u001B[38;5;241m=\u001B[39m array(arr, copy\u001B[38;5;241m=\u001B[39m\u001B[38;5;28;01mFalse\u001B[39;00m, subok\u001B[38;5;241m=\u001B[39m\u001B[38;5;28;01mTrue\u001B[39;00m, ndmin\u001B[38;5;241m=\u001B[39m\u001B[38;5;241m2\u001B[39m)\u001B[38;5;241m.\u001B[39mT\n\u001B[0;32m    651\u001B[0m     arrays\u001B[38;5;241m.\u001B[39mappend(arr)\n\u001B[1;32m--> 652\u001B[0m \u001B[38;5;28;01mreturn\u001B[39;00m _nx\u001B[38;5;241m.\u001B[39mconcatenate(arrays, \u001B[38;5;241m1\u001B[39m)\n",
      "\u001B[1;31mValueError\u001B[0m: all the input array dimensions except for the concatenation axis must match exactly, but along dimension 0, the array at index 0 has size 538 and the array at index 1 has size 882"
     ]
    }
   ],
   "source": [
    "ensemble_features_train = np.column_stack((xgb_predictions_train, predictions_LTSM_train,rf_predictions_train))\n",
    "\n",
    "ensemble_features_test = np.column_stack((xgb_predictions_test, np.squeeze(predictions_LTSM_test), rf_predictions_test))\n",
    "\n",
    "\n",
    "xgboost_ensemble_model = xgb.XGBRegressor(max_depth=40, n_estimators=500)  # Подберите параметры по необходимости\n",
    "xgboost_ensemble_model.fit(ensemble_features_train, y_train)\n",
    "\n",
    "\n",
    "xgboost_ensemble_model_pred = xgboost_ensemble_model.predict(ensemble_features_test)\n",
    "\n",
    "# Рассчет метрик\n",
    "mse = mean_squared_error(y_test, xgboost_ensemble_model_pred)\n",
    "rmse = np.sqrt(mse)\n",
    "r2 = r2_score(y_test, xgboost_ensemble_model_pred)\n",
    "\n",
    "print('RMSE (Root Mean Squared Error):', rmse)\n",
    "print('r2 (Root Mean Squared Error):', r2)"
   ],
   "metadata": {
    "collapsed": false,
    "ExecuteTime": {
     "end_time": "2023-10-15T14:05:16.847818800Z",
     "start_time": "2023-10-15T14:05:16.785304900Z"
    }
   },
   "id": "639114d1e462cc5"
  },
  {
   "cell_type": "code",
   "execution_count": null,
   "outputs": [],
   "source": [
    "from sklearn.ensemble import BaggingRegressor\n",
    "\n",
    "# Усреднение прогнозов\n",
    "averaged_predictions = np.mean(ensemble_features_test, axis=1)\n",
    "\n",
    "# Веса для взвешенного усреднения\n",
    "weights = [0.5, 0.3, 0.2,]  # Пример весов (сумма весов должна быть равна 1)\n",
    "\n",
    "# Взвешенное усреднение прогнозов\n",
    "weighted_average_predictions = np.dot(ensemble_features_test, weights)"
   ],
   "metadata": {
    "collapsed": false,
    "ExecuteTime": {
     "start_time": "2023-10-15T13:50:19.298344400Z"
    }
   },
   "id": "76c2742a5888f7a0"
  },
  {
   "cell_type": "code",
   "execution_count": null,
   "outputs": [],
   "source": [
    "\n",
    "# Обучение BaggingRegressor\n",
    "bagging_model = BaggingRegressor(base_estimator=xgboost_ensemble_model, n_estimators=10)\n",
    "bagging_model.fit(ensemble_features_train, y_train)\n",
    "bagging_predictions = bagging_model.predict(ensemble_features_test)"
   ],
   "metadata": {
    "collapsed": false,
    "ExecuteTime": {
     "start_time": "2023-10-15T13:50:19.302337400Z"
    }
   },
   "id": "7b75fa36c26fb9ec"
  },
  {
   "cell_type": "code",
   "execution_count": null,
   "outputs": [],
   "source": [
    "\n",
    "# Обучение RandomForestRegressor\n",
    "random_forest_model = RandomForestRegressor(max_depth=30, n_estimators=200)\n",
    "random_forest_model.fit(ensemble_features_train, y_train)\n",
    "random_forest_predictions = random_forest_model.predict(ensemble_features_test)"
   ],
   "metadata": {
    "collapsed": false,
    "ExecuteTime": {
     "start_time": "2023-10-15T13:50:19.307474100Z"
    }
   },
   "id": "b74dca325d5e5841"
  },
  {
   "cell_type": "code",
   "execution_count": null,
   "outputs": [],
   "source": [
    "    \n",
    "\n",
    "# Рассчет R^2 для каждого усреднения\n",
    "r2_averaged = r2_score(y_test, averaged_predictions)\n",
    "r2_weighted_avg = r2_score(y_test, weighted_average_predictions)\n",
    "r2_bagging = r2_score(y_test, bagging_predictions)\n",
    "r2_random_forest = r2_score(y_test, random_forest_predictions)\n",
    "\n",
    "\n",
    "# Создание графика\n",
    "plt.figure(figsize=(12, 8))\n",
    "plt.plot(y_test.values, label='Фактическая цена')\n",
    "\n",
    "# Добавление предсказанных цен для каждого усреднения\n",
    "plt.plot(averaged_predictions, label=f'Усреднение (R^2={r2_averaged:.2f})')\n",
    "plt.plot(weighted_average_predictions, label=f'Взвешенное усреднение (R^2={r2_weighted_avg:.2f})')\n",
    "plt.plot(bagging_predictions, label=f'Bagging (R^2={r2_bagging:.2f})')\n",
    "plt.plot(random_forest_predictions, label=f'Random Forest (R^2={r2_random_forest:.2f})')\n",
    "\n",
    "\n",
    "plt.xlabel('Индекс')\n",
    "plt.ylabel('Цена')\n",
    "plt.legend()\n",
    "plt.title('Сравнение фактической и предсказанной цен')\n",
    "plt.show()\n"
   ],
   "metadata": {
    "collapsed": false,
    "ExecuteTime": {
     "start_time": "2023-10-15T13:50:19.310872500Z"
    }
   },
   "id": "72cff80029926b4c"
  },
  {
   "cell_type": "code",
   "execution_count": null,
   "outputs": [],
   "source": [
    "r2_random_forest"
   ],
   "metadata": {
    "collapsed": false,
    "ExecuteTime": {
     "start_time": "2023-10-15T13:50:19.313864600Z"
    }
   },
   "id": "e3b0e339ec841cee"
  },
  {
   "cell_type": "code",
   "execution_count": null,
   "outputs": [],
   "source": [
    "# Plot feature importance\n",
    "xgb.plot_importance(xgboost_ensemble_model)\n",
    "plt.show()"
   ],
   "metadata": {
    "collapsed": false,
    "ExecuteTime": {
     "start_time": "2023-10-15T13:50:19.317384900Z"
    }
   },
   "id": "93d1db250a38f875"
  },
  {
   "cell_type": "code",
   "execution_count": null,
   "outputs": [],
   "source": [
    "import numpy as np\n",
    "xgboost_ensemble_model_pred = random_forest_predictions\n",
    "# Initialize variables\n",
    "max_profit = 0\n",
    "total_profit = 0\n",
    "trades = []\n",
    "\n",
    "# Определение сигналов на покупку, продажу и удержание\n",
    "signals = np.zeros_like(xgboost_ensemble_model_pred)\n",
    "signals[xgboost_ensemble_model_pred > y_test.values] = 1  # Сигнал на покупку\n",
    "signals[xgboost_ensemble_model_pred < y_test.values] = -1  # Сигнал на продажу\n",
    "\n",
    "print('Сигналы на покупку (1), продажу (-1) и удержание (0):')\n",
    "print(signals)\n",
    "\n",
    "# Управление позициями\n",
    "position_size_percent = 0.01 # Размер позиции как процент от текущего капитала (например, 10%)\n",
    "portfolio_value = 100000  # Пример: начальный капитал 100000$\n",
    "position_size = portfolio_value * position_size_percent\n",
    "\n",
    "# Управление стоп-лоссами и тейк-профитами\n",
    "stop_loss_percent = 0.02  # Уровень стоп-лосса (например, 2%)\n",
    "take_profit_percent = 0.05  # Уровень тейк-профита (например, 5%)\n",
    "stop_loss_price = y_test.values * (1 - stop_loss_percent)\n",
    "take_profit_price = y_test.values * (1 + take_profit_percent)\n",
    "\n",
    "# Управление рисками\n",
    "max_loss_percent = 0.02  # Максимальный процент от капитала, который мы готовы потерять в одной сделке (например, 2%)\n",
    "max_loss = portfolio_value * max_loss_percent\n",
    "\n",
    "# Имитация торговли\n",
    "cash = portfolio_value\n",
    "position = 0\n",
    "max_profit_trade = None\n",
    "\n",
    "for i in range(len(xgboost_ensemble_model_pred)):\n",
    "    current_price = y_test.values[i]\n",
    "\n",
    "    if signals[i] == 1:  # Buy signal\n",
    "        afford_shares = int(cash / current_price)\n",
    "        position += afford_shares\n",
    "        cash -= afford_shares * current_price\n",
    "\n",
    "    elif signals[i] == -1:  # Sell signal\n",
    "        cash += position * current_price\n",
    "        trade_profit = (position * current_price) - (afford_shares * current_price)\n",
    "        total_profit += trade_profit\n",
    "\n",
    "        if trade_profit > max_profit:\n",
    "            max_profit = trade_profit\n",
    "            max_profit_trade = (y_test.index[i], current_price, trade_profit)\n",
    "\n",
    "        trades.append((y_test.index[i], current_price, trade_profit))\n",
    "\n",
    "        position = 0\n",
    "\n",
    "# Рассчитываем конечное состояние портфеля (учитывая последнюю позицию)\n",
    "portfolio_value_final = cash + position * y_test.values[-1]\n",
    "\n",
    "# Оцениваем производительность стратегии\n",
    "returns = (portfolio_value_final - portfolio_value) / portfolio_value * 100.0\n",
    "# print('Итоговая доходность стратегии: {:.2f}%'.format(returns))\n",
    "\n",
    "# Вывод информации о самых прибыльных сделках\n",
    "print('Информация о самых прибыльных сделках:')\n",
    "# Print information about the most profitable trades\n",
    "print('Information about the most profitable trades:')\n",
    "print('Date\\t\\t\\tPrice at Sale\\tProfit')\n",
    "for trade in trades:\n",
    "    print(f'{trade[0]}\\t{trade[1]}\\t{trade[2]:.2f}')\n"
   ],
   "metadata": {
    "collapsed": false,
    "ExecuteTime": {
     "start_time": "2023-10-15T13:50:19.320781Z"
    }
   },
   "id": "e3d5aaa4cc1b8326"
  },
  {
   "cell_type": "code",
   "execution_count": null,
   "outputs": [],
   "source": [
    "portfolio_value"
   ],
   "metadata": {
    "collapsed": false,
    "ExecuteTime": {
     "start_time": "2023-10-15T13:50:19.321779400Z"
    }
   },
   "id": "5370eddfd0a3766c"
  },
  {
   "cell_type": "code",
   "execution_count": null,
   "outputs": [],
   "source": [
    "# Calculate the total number of trades\n",
    "total_trades = len(trades)\n",
    "\n",
    "# Calculate the total profit across all trades\n",
    "total_profit = sum(trade[2] for trade in trades)\n",
    "\n",
    "# Calculate the average profit (or loss) per trade\n",
    "average_profit_per_trade = total_profit / total_trades\n",
    "\n",
    "# Print the results\n",
    "print('Total number of trades:', total_trades)\n",
    "print('Total profit (or loss) from all trades:', total_profit)\n",
    "print('Average profit (or loss) per trade:', average_profit_per_trade)\n"
   ],
   "metadata": {
    "collapsed": false,
    "ExecuteTime": {
     "start_time": "2023-10-15T13:50:19.324769900Z"
    }
   },
   "id": "d1c08ae8c1b99a58"
  },
  {
   "cell_type": "code",
   "execution_count": null,
   "outputs": [],
   "source": [
    "len(y_train)"
   ],
   "metadata": {
    "collapsed": false,
    "ExecuteTime": {
     "start_time": "2023-10-15T13:50:19.324769900Z"
    }
   },
   "id": "249f895e94ebcda2"
  },
  {
   "cell_type": "code",
   "execution_count": null,
   "outputs": [],
   "source": [
    "import matplotlib.pyplot as plt\n",
    "\n",
    "# Reshape the arrays to be 1-dimensional\n",
    "xgboost_ensemble_model_pred = np.reshape(xgboost_ensemble_model_pred, (-1,))\n",
    "predictions_LTSM_test = np.reshape(predictions_LTSM_test, (-1,))\n",
    "xgb_predictions_test = np.reshape(xgb_predictions_test, (-1,))\n",
    "rf_predictions_test = np.reshape(rf_predictions_test, (-1,))\n",
    "\n",
    "# Create DataFrame for visualization\n",
    "results = pd.DataFrame({'Date': data_lkoh['Дата'][:train_size-time_steps-1], 'Actual': y_test, 'Predicted_ensemble': xgboost_ensemble_model_pred, 'predictions_LTSM_test': predictions_LTSM_test, 'xgb_predictions_test': xgb_predictions_test, 'rf_predictions_test': rf_predictions_test})\n",
    "\n",
    "# Plot the graph\n",
    "plt.figure(figsize=(30, 15))\n",
    "plt.plot(results['Date'], results['Actual'], label='Actual Price', color='blue')\n",
    "plt.plot(results['Date'], results['Predicted_ensemble'], label='Predicted_ensemble', color='red')\n",
    "plt.plot(results['Date'], results['predictions_LTSM_test'], label='predictions_LTSM_test', color='green')\n",
    "plt.plot(results['Date'], results['xgb_predictions_test'], label='xgb_predictions_test', color='pink')\n",
    "plt.plot(results['Date'], results['rf_predictions_test'], label='rf_predictions_test', color='orange')\n",
    "plt.title('Actual vs. Predicted Prices')\n",
    "plt.xlabel('Date')\n",
    "plt.ylabel('Price')\n",
    "plt.legend()\n",
    "plt.grid(True)\n",
    "plt.show()"
   ],
   "metadata": {
    "collapsed": false,
    "ExecuteTime": {
     "start_time": "2023-10-15T13:50:19.327298Z"
    }
   },
   "id": "c2275b1f0430c773"
  },
  {
   "cell_type": "code",
   "execution_count": null,
   "outputs": [],
   "source": [],
   "metadata": {
    "collapsed": false
   },
   "id": "ae3222cf05f3404a"
  }
 ],
 "metadata": {
  "kernelspec": {
   "display_name": "Python 3",
   "language": "python",
   "name": "python3"
  },
  "language_info": {
   "codemirror_mode": {
    "name": "ipython",
    "version": 2
   },
   "file_extension": ".py",
   "mimetype": "text/x-python",
   "name": "python",
   "nbconvert_exporter": "python",
   "pygments_lexer": "ipython2",
   "version": "2.7.6"
  }
 },
 "nbformat": 4,
 "nbformat_minor": 5
}
